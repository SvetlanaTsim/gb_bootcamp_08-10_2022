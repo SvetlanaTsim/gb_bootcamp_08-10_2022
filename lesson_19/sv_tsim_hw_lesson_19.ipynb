{
 "cells": [
  {
   "cell_type": "markdown",
   "id": "bcdac159",
   "metadata": {},
   "source": [
    "### Урок 19. Модуль 3. Основы высшей математики"
   ]
  },
  {
   "cell_type": "markdown",
   "id": "1fc93fe9",
   "metadata": {},
   "source": [
    "1. Выделите полный квадрат:\n",
    "\n",
    "$x^2 + 4x + 6$\n",
    "\n",
    "$x^2 + 9$\n",
    "\n"
   ]
  },
  {
   "cell_type": "markdown",
   "id": "aca7c920",
   "metadata": {},
   "source": [
    "$x^2 + 4x + 6 = x^2 + 2x * 2 + 4 - 4 + 6 = (x + 2)^2 + 2$\n",
    "\n",
    "$(x + 2)^2 + 2$\n",
    "\n",
    "$x_1 = -2 + \\sqrt{2}$\n",
    "\n",
    "$x_2 = -2 - \\sqrt{2}$"
   ]
  },
  {
   "cell_type": "markdown",
   "id": "f518e9c7",
   "metadata": {},
   "source": [
    "$x^2 + 9 = x^2 + 2x*0 + 0^2 - 0^2 + 9 = (x + 0)^2 +9$"
   ]
  },
  {
   "cell_type": "markdown",
   "id": "7716d5c0",
   "metadata": {},
   "source": [
    "2 Упростите выражение, используя логарифмирование:\n",
    "\n",
    "$y = x^{sinx}, x > 0$\n"
   ]
  },
  {
   "cell_type": "markdown",
   "id": "4a742281",
   "metadata": {},
   "source": [
    "$y = x^{sinx}, x > 0$\n",
    "\n",
    "$lny = lnx^{sinx} = sinxlnx$"
   ]
  },
  {
   "cell_type": "markdown",
   "id": "3a1f3355",
   "metadata": {},
   "source": [
    "3. Определите вид функции (чётная / нечётная /\n",
    "общего вида):"
   ]
  },
  {
   "cell_type": "markdown",
   "id": "1890cdce",
   "metadata": {},
   "source": [
    "$y = 3x + x^3$\n",
    "\n",
    "$3(-x) + (-x)^3 = -3x - x^3 = -(3x + x^3) = -y$\n",
    "\n",
    "**Ответ:** функция нечетная"
   ]
  },
  {
   "cell_type": "markdown",
   "id": "1440e4d3",
   "metadata": {},
   "source": [
    "$y = 4^x + 4^{-x}$\n",
    "\n",
    "$f(-x)= 4^{-x} + 4^{-(-x)} = 4^{-x} + 4^{x} = y$\n",
    "\n",
    "**Ответ:** функция четная"
   ]
  },
  {
   "cell_type": "markdown",
   "id": "a2505d5c",
   "metadata": {},
   "source": [
    "$y = (x - 1)^3$\n",
    "\n",
    "$f(-x) = (-x - 1)^3$\n",
    "\n",
    "**Ответ:** функция общего вида"
   ]
  }
 ],
 "metadata": {
  "kernelspec": {
   "display_name": "Python 3 (ipykernel)",
   "language": "python",
   "name": "python3"
  },
  "language_info": {
   "codemirror_mode": {
    "name": "ipython",
    "version": 3
   },
   "file_extension": ".py",
   "mimetype": "text/x-python",
   "name": "python",
   "nbconvert_exporter": "python",
   "pygments_lexer": "ipython3",
   "version": "3.9.7"
  }
 },
 "nbformat": 4,
 "nbformat_minor": 5
}
