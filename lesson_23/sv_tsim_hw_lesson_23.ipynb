{
 "cells": [
  {
   "cell_type": "markdown",
   "id": "70c4eea6",
   "metadata": {
    "id": "70c4eea6"
   },
   "source": [
    "Задача 1.\n",
    "Предположим, мы хотим найти вероятность того, что на игральной кости при броске выпадет значение больше 4."
   ]
  },
  {
   "cell_type": "code",
   "execution_count": 1,
   "id": "46458864",
   "metadata": {
    "id": "46458864"
   },
   "outputs": [
    {
     "data": {
      "text/plain": [
       "0.3333333333333333"
      ]
     },
     "execution_count": 1,
     "metadata": {},
     "output_type": "execute_result"
    }
   ],
   "source": [
    "1/6 + 1/6"
   ]
  },
  {
   "cell_type": "markdown",
   "id": "4f48137e",
   "metadata": {
    "id": "4f48137e"
   },
   "source": [
    "Задача 2. Написать функцию для вычисления факториала и рассчитать число сочетаний из 6 по 2."
   ]
  },
  {
   "cell_type": "code",
   "execution_count": 2,
   "id": "00b864a2",
   "metadata": {
    "id": "00b864a2"
   },
   "outputs": [],
   "source": [
    "def fact(x):\n",
    "    if x == 0:\n",
    "        return 1\n",
    "    return x * fact(x-1)"
   ]
  },
  {
   "cell_type": "code",
   "execution_count": 3,
   "id": "d0c90fd6",
   "metadata": {
    "id": "d0c90fd6"
   },
   "outputs": [
    {
     "data": {
      "text/plain": [
       "24"
      ]
     },
     "execution_count": 3,
     "metadata": {},
     "output_type": "execute_result"
    }
   ],
   "source": [
    "fact(4)"
   ]
  },
  {
   "cell_type": "markdown",
   "id": "75fc384c",
   "metadata": {},
   "source": [
    "Общая формула, которая позволяет найти число сочетаний из n объектов по k имеет вид:\n",
    "\n",
    "$C^k_n= \\frac{n!}{(n−k)!⋅k!}$\n"
   ]
  },
  {
   "cell_type": "code",
   "execution_count": 4,
   "id": "818dbe13",
   "metadata": {
    "id": "818dbe13"
   },
   "outputs": [
    {
     "data": {
      "text/plain": [
       "15.0"
      ]
     },
     "execution_count": 4,
     "metadata": {},
     "output_type": "execute_result"
    }
   ],
   "source": [
    "#рассчитать число сочетаний из 6 по 2\n",
    "fact(6)/(fact(6-4)*fact(4))"
   ]
  },
  {
   "cell_type": "markdown",
   "id": "710a7b51",
   "metadata": {
    "id": "710a7b51"
   },
   "source": [
    "Задача 3. Из 30 стрелков 12 попадает в цель с вероятностью 0,6, 8 стрелков — с вероятностью 0,5, а 10 — с вероятностью 0,7. Наудачу выбранный стрелок произвёл выстрел, поразив цель.\n",
    "К какой из групп, вероятнее всего, принадлежал этот стрелок?"
   ]
  },
  {
   "cell_type": "markdown",
   "id": "8414fa78",
   "metadata": {
    "id": "bf853584"
   },
   "source": [
    "Так как событие - попадание стрелка в мишень уже произошло, будем использовать формулу Байеса:\n",
    "\n",
    "$$P(B\\:|\\:A) = \\frac{P(B) \\cdot P(A\\:|\\:B)}{P(A)}$$"
   ]
  },
  {
   "cell_type": "code",
   "execution_count": 5,
   "id": "b39dbeea",
   "metadata": {},
   "outputs": [
    {
     "data": {
      "text/plain": [
       "0.6066666666666666"
      ]
     },
     "execution_count": 5,
     "metadata": {},
     "output_type": "execute_result"
    }
   ],
   "source": [
    "#общая вероятность, что хоть один из стрелков попадет в мишень\n",
    "P_A = 12/30 * 0.6 + 8/30 * 0.5 + 10/30 * 0.7\n",
    "P_A"
   ]
  },
  {
   "cell_type": "code",
   "execution_count": 6,
   "id": "405637cf",
   "metadata": {},
   "outputs": [
    {
     "data": {
      "text/plain": [
       "0.39560439560439564"
      ]
     },
     "execution_count": 6,
     "metadata": {},
     "output_type": "execute_result"
    }
   ],
   "source": [
    "#вероятность, что стреляла первая группа, где 12 стрелков\n",
    "P_B1_A = (12/30 * 0.6) / P_A\n",
    "P_B1_A"
   ]
  },
  {
   "cell_type": "code",
   "execution_count": 7,
   "id": "fbd7410c",
   "metadata": {},
   "outputs": [
    {
     "data": {
      "text/plain": [
       "0.2197802197802198"
      ]
     },
     "execution_count": 7,
     "metadata": {},
     "output_type": "execute_result"
    }
   ],
   "source": [
    "#вероятность, что стреляла вторая группа, где 8 стрелков\n",
    "P_B2_A = (8/30 * 0.5) / P_A\n",
    "P_B2_A"
   ]
  },
  {
   "cell_type": "code",
   "execution_count": 8,
   "id": "1d26de6b",
   "metadata": {},
   "outputs": [
    {
     "data": {
      "text/plain": [
       "0.38461538461538464"
      ]
     },
     "execution_count": 8,
     "metadata": {},
     "output_type": "execute_result"
    }
   ],
   "source": [
    "#вероятность, что стреляла третья группа, где 10 стрелков\n",
    "P_B3_A = (10/30 * 0.7) / P_A\n",
    "P_B3_A"
   ]
  },
  {
   "cell_type": "code",
   "execution_count": 9,
   "id": "d182e6e4",
   "metadata": {},
   "outputs": [
    {
     "data": {
      "text/plain": [
       "1.0"
      ]
     },
     "execution_count": 9,
     "metadata": {},
     "output_type": "execute_result"
    }
   ],
   "source": [
    "P_B1_A + P_B2_A + P_B3_A"
   ]
  },
  {
   "cell_type": "code",
   "execution_count": 17,
   "id": "bf796282",
   "metadata": {},
   "outputs": [
    {
     "data": {
      "text/plain": [
       "True"
      ]
     },
     "execution_count": 17,
     "metadata": {},
     "output_type": "execute_result"
    }
   ],
   "source": [
    "#Наибольшая вероятность, что стрелял стрелок из первой группы. \n",
    "(P_B1_A > P_B2_A) and (P_B1_A > P_B3_A)"
   ]
  },
  {
   "cell_type": "markdown",
   "id": "8091fdd1",
   "metadata": {
    "id": "8091fdd1"
   },
   "source": [
    "Задача 4. Сгенерировать выборку реализаций случайной величины (кроме распределения Коши).\n",
    "Любимое распределение можно выбрать на этом [сайте](https://docs.scipy.org/doc/scipy/reference/stats.html).\n",
    "Проверить ЦПТ для различных n."
   ]
  },
  {
   "cell_type": "code",
   "execution_count": 39,
   "id": "8bc6a63d",
   "metadata": {
    "id": "8bc6a63d"
   },
   "outputs": [],
   "source": [
    "#from scipy.stats import expon\n",
    "import warnings\n",
    "warnings.filterwarnings('ignore')"
   ]
  },
  {
   "cell_type": "code",
   "execution_count": 62,
   "id": "79d45f60",
   "metadata": {
    "id": "79d45f60"
   },
   "outputs": [],
   "source": [
    "#возьмем alpha\n",
    "import seaborn as sns\n",
    "from scipy.stats import alpha"
   ]
  },
  {
   "cell_type": "code",
   "execution_count": 41,
   "id": "2c4300fa",
   "metadata": {},
   "outputs": [],
   "source": [
    "a = 3.57\n",
    "mean, var, skew, kurt = alpha.stats(a, moments='mvsk')"
   ]
  },
  {
   "cell_type": "code",
   "execution_count": 61,
   "id": "3c24e2ed",
   "metadata": {},
   "outputs": [],
   "source": [
    "r = np.linspace(alpha.ppf(0.01, a),\n",
    "                alpha.ppf(0.99, a), 1000)"
   ]
  },
  {
   "cell_type": "code",
   "execution_count": 63,
   "id": "01831c54",
   "metadata": {
    "id": "01831c54"
   },
   "outputs": [
    {
     "data": {
      "text/plain": [
       "<AxesSubplot:ylabel='Density'>"
      ]
     },
     "execution_count": 63,
     "metadata": {},
     "output_type": "execute_result"
    },
    {
     "data": {
      "image/png": "[encoded data removed]",
      "text/plain": [
       "<Figure size 432x288 with 1 Axes>"
      ]
     },
     "metadata": {
      "needs_background": "light"
     },
     "output_type": "display_data"
    }
   ],
   "source": [
    "sns.distplot(r)"
   ]
  },
  {
   "cell_type": "code",
   "execution_count": 64,
   "id": "db4dcded",
   "metadata": {
    "id": "db4dcded"
   },
   "outputs": [],
   "source": [
    "from scipy import stats"
   ]
  },
  {
   "cell_type": "code",
   "execution_count": 65,
   "id": "33535a16",
   "metadata": {
    "id": "33535a16"
   },
   "outputs": [],
   "source": [
    "import numpy as np"
   ]
  },
  {
   "cell_type": "code",
   "execution_count": 67,
   "id": "a8ea54c7",
   "metadata": {
    "id": "a8ea54c7"
   },
   "outputs": [],
   "source": [
    "a1=[]\n",
    "for _ in range(10):\n",
    "    a1.append(alpha.rvs(a, size=100).mean())"
   ]
  },
  {
   "cell_type": "code",
   "execution_count": 68,
   "id": "b42e5927",
   "metadata": {
    "id": "b42e5927"
   },
   "outputs": [
    {
     "data": {
      "text/plain": [
       "<AxesSubplot:ylabel='Density'>"
      ]
     },
     "execution_count": 68,
     "metadata": {},
     "output_type": "execute_result"
    },
    {
     "data": {
      "image/png": "[encoded data removed]",
      "text/plain": [
       "<Figure size 432x288 with 1 Axes>"
      ]
     },
     "metadata": {
      "needs_background": "light"
     },
     "output_type": "display_data"
    }
   ],
   "source": [
    "sns.distplot(a1)"
   ]
  },
  {
   "cell_type": "code",
   "execution_count": 71,
   "id": "61a8bb90",
   "metadata": {
    "id": "61a8bb90"
   },
   "outputs": [
    {
     "data": {
      "text/plain": [
       "AndersonResult(statistic=0.7109537684872169, critical_values=array([0.501, 0.57 , 0.684, 0.798, 0.95 ]), significance_level=array([15. , 10. ,  5. ,  2.5,  1. ]))"
      ]
     },
     "execution_count": 71,
     "metadata": {},
     "output_type": "execute_result"
    }
   ],
   "source": [
    "stats.anderson(a1)"
   ]
  },
  {
   "cell_type": "markdown",
   "id": "966dc077",
   "metadata": {
    "id": "966dc077"
   },
   "source": [
    "Задача 5. Попробовать применить ЦПТ к распределению Коши."
   ]
  },
  {
   "cell_type": "code",
   "execution_count": 72,
   "id": "a2bcd5bf",
   "metadata": {
    "id": "a2bcd5bf"
   },
   "outputs": [],
   "source": [
    "from scipy.stats import cauchy"
   ]
  },
  {
   "cell_type": "code",
   "execution_count": 73,
   "id": "ee5c8e76",
   "metadata": {
    "id": "ee5c8e76"
   },
   "outputs": [],
   "source": [
    "a6=[]\n",
    "for _ in range(100000):\n",
    "    a6.append(cauchy.rvs(size=1000).mean())"
   ]
  },
  {
   "cell_type": "code",
   "execution_count": 74,
   "id": "56988472",
   "metadata": {
    "id": "56988472"
   },
   "outputs": [
    {
     "data": {
      "text/plain": [
       "<AxesSubplot:ylabel='Density'>"
      ]
     },
     "execution_count": 74,
     "metadata": {},
     "output_type": "execute_result"
    },
    {
     "data": {
      "image/png": "[encoded data removed]",
      "text/plain": [
       "<Figure size 432x288 with 1 Axes>"
      ]
     },
     "metadata": {
      "needs_background": "light"
     },
     "output_type": "display_data"
    }
   ],
   "source": [
    "sns.distplot(np.array(a6))"
   ]
  },
  {
   "cell_type": "code",
   "execution_count": 75,
   "id": "eb52f970",
   "metadata": {
    "id": "eb52f970"
   },
   "outputs": [
    {
     "data": {
      "text/plain": [
       "AndersonResult(statistic=37008.111006916355, critical_values=array([0.576, 0.656, 0.787, 0.918, 1.092]), significance_level=array([15. , 10. ,  5. ,  2.5,  1. ]))"
      ]
     },
     "execution_count": 75,
     "metadata": {},
     "output_type": "execute_result"
    }
   ],
   "source": [
    "stats.anderson(np.array(a6))"
   ]
  },
  {
   "cell_type": "code",
   "execution_count": 76,
   "id": "b3a7daf5",
   "metadata": {},
   "outputs": [],
   "source": [
    "a5=[]\n",
    "for _ in range(100000):\n",
    "    a5.append(alpha.rvs(a, size=1000).mean())"
   ]
  },
  {
   "cell_type": "markdown",
   "id": "c5d9ce87",
   "metadata": {
    "id": "c5d9ce87"
   },
   "source": [
    "Задача 6. Посчитать основные характеристики выборки."
   ]
  },
  {
   "cell_type": "code",
   "execution_count": 77,
   "id": "d0a1b5cb",
   "metadata": {
    "id": "d0a1b5cb"
   },
   "outputs": [],
   "source": [
    "a5rr=np.array(a5)"
   ]
  },
  {
   "cell_type": "code",
   "execution_count": 78,
   "id": "f510acaf",
   "metadata": {
    "id": "f510acaf"
   },
   "outputs": [
    {
     "data": {
      "text/plain": [
       "(0.2925141682936312,\n",
       " 64.10173126505046,\n",
       " 0.31856559406654006,\n",
       " 0.3074211846595524)"
      ]
     },
     "execution_count": 78,
     "metadata": {},
     "output_type": "execute_result"
    }
   ],
   "source": [
    "np.min(a5rr), np.max(a5rr), np.mean(a5rr), np.std(a5rr)"
   ]
  },
  {
   "cell_type": "markdown",
   "id": "12d2c149",
   "metadata": {
    "id": "12d2c149"
   },
   "source": [
    "Задача 7. Посчитать коэффициент корреляции для двух векторов."
   ]
  },
  {
   "cell_type": "code",
   "execution_count": 79,
   "id": "539da35b",
   "metadata": {
    "id": "539da35b"
   },
   "outputs": [],
   "source": [
    "a6rr=np.array(a6)"
   ]
  },
  {
   "cell_type": "code",
   "execution_count": 80,
   "id": "b2f3738a",
   "metadata": {
    "id": "b2f3738a"
   },
   "outputs": [
    {
     "data": {
      "text/plain": [
       "(100000, 100000)"
      ]
     },
     "execution_count": 80,
     "metadata": {},
     "output_type": "execute_result"
    }
   ],
   "source": [
    "len(a5), len(a6)"
   ]
  },
  {
   "cell_type": "code",
   "execution_count": 81,
   "id": "9bd26c09",
   "metadata": {
    "id": "9bd26c09"
   },
   "outputs": [
    {
     "data": {
      "text/plain": [
       "array([[ 1.00000000e+00, -2.63296248e-04],\n",
       "       [-2.63296248e-04,  1.00000000e+00]])"
      ]
     },
     "execution_count": 81,
     "metadata": {},
     "output_type": "execute_result"
    }
   ],
   "source": [
    "np.corrcoef(a5rr, a6rr)"
   ]
  }
 ],
 "metadata": {
  "colab": {
   "provenance": []
  },
  "kernelspec": {
   "display_name": "Python 3 (ipykernel)",
   "language": "python",
   "name": "python3"
  },
  "language_info": {
   "codemirror_mode": {
    "name": "ipython",
    "version": 3
   },
   "file_extension": ".py",
   "mimetype": "text/x-python",
   "name": "python",
   "nbconvert_exporter": "python",
   "pygments_lexer": "ipython3",
   "version": "3.9.7"
  }
 },
 "nbformat": 4,
 "nbformat_minor": 5
}
