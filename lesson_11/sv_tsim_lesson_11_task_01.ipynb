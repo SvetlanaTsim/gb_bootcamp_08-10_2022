{
 "cells": [
  {
   "cell_type": "code",
   "execution_count": 30,
   "id": "6b703ec7",
   "metadata": {},
   "outputs": [],
   "source": [
    "import pandas as pd\n",
    "import numpy as np"
   ]
  },
  {
   "cell_type": "markdown",
   "id": "07d383a0",
   "metadata": {},
   "source": [
    "### Pandas\n",
    "\n",
    "* Скачайте любой табличный датасет (можете использовать тот же, что и в дз к занятию \"Знакомство с библиотеками\"), например, с https://www.kaggle.com/datasets\n",
    "* Проведите поноценный EDA \n",
    "    * \"погрузитесь\" в данные\n",
    "    * составьте описание измерений из датасета\n",
    "    * очистите данные, если это необходимо\n",
    "    * попробуйте создать дополнительные переменные, которые могут помочь лучше понять данные"
   ]
  },
  {
   "cell_type": "markdown",
   "id": "3b1ab891",
   "metadata": {},
   "source": [
    "### About Dataset\n",
    "##### 💸💸💸 Cost of Living - 50k Tweets in English | Aug 2022 💸💸💸\n",
    "\n",
    "The cost of living is a scorching topic. This dataset is composed of tweets sent from August 20 to August 26 2022, with 50k tweets. All tweets are in English and are from different countries. Below is a breakdown of columns and the data in them."
   ]
  },
  {
   "cell_type": "markdown",
   "id": "5080ae56",
   "metadata": {},
   "source": [
    "### О наборе данных\n",
    "##### 💸💸💸 Стоимость жизни - 50 тысяч твитов на английском языке | август 2022 💸💸💸\n",
    "\n",
    "Стоимость жизни – животрепещущая тема. Этот набор данных состоит из твитов, отправленных с 20 по 26 августа 2022 года, всего 50 000 твитов. Все твиты на английском и из разных стран. Ниже приведена разбивка столбцов и данных в них."
   ]
  },
  {
   "cell_type": "code",
   "execution_count": 31,
   "id": "8e09978b",
   "metadata": {},
   "outputs": [
    {
     "data": {
      "text/html": [
       "<div>\n",
       "<style scoped>\n",
       "    .dataframe tbody tr th:only-of-type {\n",
       "        vertical-align: middle;\n",
       "    }\n",
       "\n",
       "    .dataframe tbody tr th {\n",
       "        vertical-align: top;\n",
       "    }\n",
       "\n",
       "    .dataframe thead th {\n",
       "        text-align: right;\n",
       "    }\n",
       "</style>\n",
       "<table border=\"1\" class=\"dataframe\">\n",
       "  <thead>\n",
       "    <tr style=\"text-align: right;\">\n",
       "      <th></th>\n",
       "      <th>date_time</th>\n",
       "      <th>username</th>\n",
       "      <th>user_location</th>\n",
       "      <th>user_description</th>\n",
       "      <th>verified</th>\n",
       "      <th>followers_count</th>\n",
       "      <th>following_count</th>\n",
       "      <th>tweet_like_count</th>\n",
       "      <th>tweet_retweet_count</th>\n",
       "      <th>tweet_reply_count</th>\n",
       "      <th>source</th>\n",
       "      <th>tweet_text</th>\n",
       "    </tr>\n",
       "  </thead>\n",
       "  <tbody>\n",
       "    <tr>\n",
       "      <th>0</th>\n",
       "      <td>2022-08-26 21:09:51+00:00</td>\n",
       "      <td>CathFordETS</td>\n",
       "      <td>Manchester, England</td>\n",
       "      <td>Chronic illness advocate. Many health conditio...</td>\n",
       "      <td>False</td>\n",
       "      <td>20</td>\n",
       "      <td>106</td>\n",
       "      <td>0</td>\n",
       "      <td>0</td>\n",
       "      <td>0</td>\n",
       "      <td>&lt;a href=\"http://twitter.com/download/android\" ...</td>\n",
       "      <td>@Keir_Starmer Please can you share this petiti...</td>\n",
       "    </tr>\n",
       "    <tr>\n",
       "      <th>1</th>\n",
       "      <td>2022-08-26 21:09:25+00:00</td>\n",
       "      <td>gsvigilant</td>\n",
       "      <td>NaN</td>\n",
       "      <td>NaN</td>\n",
       "      <td>False</td>\n",
       "      <td>6</td>\n",
       "      <td>29</td>\n",
       "      <td>0</td>\n",
       "      <td>0</td>\n",
       "      <td>0</td>\n",
       "      <td>&lt;a href=\"http://twitter.com/download/android\" ...</td>\n",
       "      <td>@amyklobuchar So much for focusing your attent...</td>\n",
       "    </tr>\n",
       "    <tr>\n",
       "      <th>2</th>\n",
       "      <td>2022-08-26 21:09:19+00:00</td>\n",
       "      <td>Chris07111522</td>\n",
       "      <td>NaN</td>\n",
       "      <td>Professional educator, with a curious mind and...</td>\n",
       "      <td>False</td>\n",
       "      <td>18</td>\n",
       "      <td>39</td>\n",
       "      <td>0</td>\n",
       "      <td>0</td>\n",
       "      <td>0</td>\n",
       "      <td>&lt;a href=\"http://twitter.com/download/android\" ...</td>\n",
       "      <td>@TheLastLeg Kidnap the Tory leadership candida...</td>\n",
       "    </tr>\n",
       "    <tr>\n",
       "      <th>3</th>\n",
       "      <td>2022-08-26 21:09:18+00:00</td>\n",
       "      <td>mnguniomhlophe</td>\n",
       "      <td>Savanna City Midvaal</td>\n",
       "      <td>Traditional Healer and Clairvoyant: Interested...</td>\n",
       "      <td>False</td>\n",
       "      <td>431</td>\n",
       "      <td>1603</td>\n",
       "      <td>0</td>\n",
       "      <td>0</td>\n",
       "      <td>0</td>\n",
       "      <td>&lt;a href=\"https://mobile.twitter.com\" rel=\"nofo...</td>\n",
       "      <td>I salute all the courageous men and women from...</td>\n",
       "    </tr>\n",
       "    <tr>\n",
       "      <th>4</th>\n",
       "      <td>2022-08-26 21:09:13+00:00</td>\n",
       "      <td>RepAshleyHinson</td>\n",
       "      <td>Washington, DC</td>\n",
       "      <td>Proud mom and wife. Representing IA-01 in Cong...</td>\n",
       "      <td>True</td>\n",
       "      <td>15667</td>\n",
       "      <td>624</td>\n",
       "      <td>0</td>\n",
       "      <td>1</td>\n",
       "      <td>0</td>\n",
       "      <td>&lt;a href=\"http://twitter.com/download/iphone\" r...</td>\n",
       "      <td>Unleashing American energy independence is one...</td>\n",
       "    </tr>\n",
       "  </tbody>\n",
       "</table>\n",
       "</div>"
      ],
      "text/plain": [
       "                   date_time         username         user_location  \\\n",
       "0  2022-08-26 21:09:51+00:00      CathFordETS   Manchester, England   \n",
       "1  2022-08-26 21:09:25+00:00       gsvigilant                   NaN   \n",
       "2  2022-08-26 21:09:19+00:00    Chris07111522                   NaN   \n",
       "3  2022-08-26 21:09:18+00:00   mnguniomhlophe  Savanna City Midvaal   \n",
       "4  2022-08-26 21:09:13+00:00  RepAshleyHinson        Washington, DC   \n",
       "\n",
       "                                    user_description  verified  \\\n",
       "0  Chronic illness advocate. Many health conditio...     False   \n",
       "1                                                NaN     False   \n",
       "2  Professional educator, with a curious mind and...     False   \n",
       "3  Traditional Healer and Clairvoyant: Interested...     False   \n",
       "4  Proud mom and wife. Representing IA-01 in Cong...      True   \n",
       "\n",
       "   followers_count  following_count  tweet_like_count  tweet_retweet_count  \\\n",
       "0               20              106                 0                    0   \n",
       "1                6               29                 0                    0   \n",
       "2               18               39                 0                    0   \n",
       "3              431             1603                 0                    0   \n",
       "4            15667              624                 0                    1   \n",
       "\n",
       "   tweet_reply_count                                             source  \\\n",
       "0                  0  <a href=\"http://twitter.com/download/android\" ...   \n",
       "1                  0  <a href=\"http://twitter.com/download/android\" ...   \n",
       "2                  0  <a href=\"http://twitter.com/download/android\" ...   \n",
       "3                  0  <a href=\"https://mobile.twitter.com\" rel=\"nofo...   \n",
       "4                  0  <a href=\"http://twitter.com/download/iphone\" r...   \n",
       "\n",
       "                                          tweet_text  \n",
       "0  @Keir_Starmer Please can you share this petiti...  \n",
       "1  @amyklobuchar So much for focusing your attent...  \n",
       "2  @TheLastLeg Kidnap the Tory leadership candida...  \n",
       "3  I salute all the courageous men and women from...  \n",
       "4  Unleashing American energy independence is one...  "
      ]
     },
     "execution_count": 31,
     "metadata": {},
     "output_type": "execute_result"
    }
   ],
   "source": [
    "data = pd.read_csv('dataset/new/costofliving-query-tweets.csv')\n",
    "data.head()"
   ]
  },
  {
   "cell_type": "code",
   "execution_count": 32,
   "id": "288bba1f",
   "metadata": {},
   "outputs": [
    {
     "name": "stdout",
     "output_type": "stream",
     "text": [
      "<class 'pandas.core.frame.DataFrame'>\n",
      "RangeIndex: 50001 entries, 0 to 50000\n",
      "Data columns (total 12 columns):\n",
      " #   Column               Non-Null Count  Dtype \n",
      "---  ------               --------------  ----- \n",
      " 0   date_time            50001 non-null  object\n",
      " 1   username             50001 non-null  object\n",
      " 2   user_location        34297 non-null  object\n",
      " 3   user_description     42986 non-null  object\n",
      " 4   verified             50001 non-null  bool  \n",
      " 5   followers_count      50001 non-null  int64 \n",
      " 6   following_count      50001 non-null  int64 \n",
      " 7   tweet_like_count     50001 non-null  int64 \n",
      " 8   tweet_retweet_count  50001 non-null  int64 \n",
      " 9   tweet_reply_count    50001 non-null  int64 \n",
      " 10  source               50001 non-null  object\n",
      " 11  tweet_text           50001 non-null  object\n",
      "dtypes: bool(1), int64(5), object(6)\n",
      "memory usage: 4.2+ MB\n"
     ]
    }
   ],
   "source": [
    "#есть пропуски в столбцах user_location, user_description (заполнять надо на моду, так как это текстовые данные)\n",
    "data.info()"
   ]
  },
  {
   "cell_type": "code",
   "execution_count": 33,
   "id": "76fbe899",
   "metadata": {},
   "outputs": [
    {
     "data": {
      "text/plain": [
       "32018"
      ]
     },
     "execution_count": 33,
     "metadata": {},
     "output_type": "execute_result"
    }
   ],
   "source": [
    "#много уникальных\n",
    "len(data['user_description'].unique())"
   ]
  },
  {
   "cell_type": "code",
   "execution_count": 34,
   "id": "5e001d6f",
   "metadata": {},
   "outputs": [
    {
     "data": {
      "text/plain": [
       "11555"
      ]
     },
     "execution_count": 34,
     "metadata": {},
     "output_type": "execute_result"
    }
   ],
   "source": [
    "#много уникальных\n",
    "len(data['user_location'].unique())"
   ]
  },
  {
   "cell_type": "code",
   "execution_count": 35,
   "id": "f5581721",
   "metadata": {},
   "outputs": [
    {
     "data": {
      "text/plain": [
       "(50001, 12)"
      ]
     },
     "execution_count": 35,
     "metadata": {},
     "output_type": "execute_result"
    }
   ],
   "source": [
    "data.shape"
   ]
  },
  {
   "cell_type": "code",
   "execution_count": 36,
   "id": "74e36d8d",
   "metadata": {},
   "outputs": [
    {
     "data": {
      "text/html": [
       "<div>\n",
       "<style scoped>\n",
       "    .dataframe tbody tr th:only-of-type {\n",
       "        vertical-align: middle;\n",
       "    }\n",
       "\n",
       "    .dataframe tbody tr th {\n",
       "        vertical-align: top;\n",
       "    }\n",
       "\n",
       "    .dataframe thead th {\n",
       "        text-align: right;\n",
       "    }\n",
       "</style>\n",
       "<table border=\"1\" class=\"dataframe\">\n",
       "  <thead>\n",
       "    <tr style=\"text-align: right;\">\n",
       "      <th></th>\n",
       "      <th>followers_count</th>\n",
       "      <th>following_count</th>\n",
       "      <th>tweet_like_count</th>\n",
       "      <th>tweet_retweet_count</th>\n",
       "      <th>tweet_reply_count</th>\n",
       "    </tr>\n",
       "  </thead>\n",
       "  <tbody>\n",
       "    <tr>\n",
       "      <th>count</th>\n",
       "      <td>5.000100e+04</td>\n",
       "      <td>50001.000000</td>\n",
       "      <td>50001.000000</td>\n",
       "      <td>50001.000000</td>\n",
       "      <td>50001.000000</td>\n",
       "    </tr>\n",
       "    <tr>\n",
       "      <th>mean</th>\n",
       "      <td>4.973863e+04</td>\n",
       "      <td>1737.685126</td>\n",
       "      <td>14.213976</td>\n",
       "      <td>3.703086</td>\n",
       "      <td>1.505290</td>\n",
       "    </tr>\n",
       "    <tr>\n",
       "      <th>std</th>\n",
       "      <td>6.771397e+05</td>\n",
       "      <td>6683.105153</td>\n",
       "      <td>373.453878</td>\n",
       "      <td>110.519391</td>\n",
       "      <td>22.338956</td>\n",
       "    </tr>\n",
       "    <tr>\n",
       "      <th>min</th>\n",
       "      <td>0.000000e+00</td>\n",
       "      <td>0.000000</td>\n",
       "      <td>0.000000</td>\n",
       "      <td>0.000000</td>\n",
       "      <td>0.000000</td>\n",
       "    </tr>\n",
       "    <tr>\n",
       "      <th>25%</th>\n",
       "      <td>9.500000e+01</td>\n",
       "      <td>185.000000</td>\n",
       "      <td>0.000000</td>\n",
       "      <td>0.000000</td>\n",
       "      <td>0.000000</td>\n",
       "    </tr>\n",
       "    <tr>\n",
       "      <th>50%</th>\n",
       "      <td>5.380000e+02</td>\n",
       "      <td>620.000000</td>\n",
       "      <td>0.000000</td>\n",
       "      <td>0.000000</td>\n",
       "      <td>0.000000</td>\n",
       "    </tr>\n",
       "    <tr>\n",
       "      <th>75%</th>\n",
       "      <td>2.332000e+03</td>\n",
       "      <td>1771.000000</td>\n",
       "      <td>2.000000</td>\n",
       "      <td>0.000000</td>\n",
       "      <td>1.000000</td>\n",
       "    </tr>\n",
       "    <tr>\n",
       "      <th>max</th>\n",
       "      <td>2.690649e+07</td>\n",
       "      <td>638937.000000</td>\n",
       "      <td>45979.000000</td>\n",
       "      <td>14740.000000</td>\n",
       "      <td>2211.000000</td>\n",
       "    </tr>\n",
       "  </tbody>\n",
       "</table>\n",
       "</div>"
      ],
      "text/plain": [
       "       followers_count  following_count  tweet_like_count  \\\n",
       "count     5.000100e+04     50001.000000      50001.000000   \n",
       "mean      4.973863e+04      1737.685126         14.213976   \n",
       "std       6.771397e+05      6683.105153        373.453878   \n",
       "min       0.000000e+00         0.000000          0.000000   \n",
       "25%       9.500000e+01       185.000000          0.000000   \n",
       "50%       5.380000e+02       620.000000          0.000000   \n",
       "75%       2.332000e+03      1771.000000          2.000000   \n",
       "max       2.690649e+07    638937.000000      45979.000000   \n",
       "\n",
       "       tweet_retweet_count  tweet_reply_count  \n",
       "count         50001.000000       50001.000000  \n",
       "mean              3.703086           1.505290  \n",
       "std             110.519391          22.338956  \n",
       "min               0.000000           0.000000  \n",
       "25%               0.000000           0.000000  \n",
       "50%               0.000000           0.000000  \n",
       "75%               0.000000           1.000000  \n",
       "max           14740.000000        2211.000000  "
      ]
     },
     "execution_count": 36,
     "metadata": {},
     "output_type": "execute_result"
    }
   ],
   "source": [
    "#средннее значение и медиана не совпадают по многим столбцам, что означает, что есть выбросы.\n",
    "#по показателям tweet_like_count, tweet_retweet_count, tweet_reply_count - медиана равна нулю, а максимальные значения очень\n",
    "#большие. То есть есть непопулярные твиты, а есть очень популярные.\n",
    "data.describe()"
   ]
  },
  {
   "cell_type": "code",
   "execution_count": 37,
   "id": "425e3179",
   "metadata": {},
   "outputs": [
    {
     "data": {
      "text/plain": [
       "0"
      ]
     },
     "execution_count": 37,
     "metadata": {},
     "output_type": "execute_result"
    }
   ],
   "source": [
    "data.duplicated().sum()"
   ]
  },
  {
   "cell_type": "code",
   "execution_count": 38,
   "id": "321717d5",
   "metadata": {},
   "outputs": [
    {
     "data": {
      "text/plain": [
       "date_time                  0\n",
       "username                   0\n",
       "user_location          15704\n",
       "user_description        7015\n",
       "verified                   0\n",
       "followers_count            0\n",
       "following_count            0\n",
       "tweet_like_count           0\n",
       "tweet_retweet_count        0\n",
       "tweet_reply_count          0\n",
       "source                     0\n",
       "tweet_text                 0\n",
       "dtype: int64"
      ]
     },
     "execution_count": 38,
     "metadata": {},
     "output_type": "execute_result"
    }
   ],
   "source": [
    "data.isnull().sum()"
   ]
  },
  {
   "cell_type": "code",
   "execution_count": 39,
   "id": "3d9cbbaa",
   "metadata": {},
   "outputs": [
    {
     "data": {
      "text/html": [
       "<div>\n",
       "<style scoped>\n",
       "    .dataframe tbody tr th:only-of-type {\n",
       "        vertical-align: middle;\n",
       "    }\n",
       "\n",
       "    .dataframe tbody tr th {\n",
       "        vertical-align: top;\n",
       "    }\n",
       "\n",
       "    .dataframe thead th {\n",
       "        text-align: right;\n",
       "    }\n",
       "</style>\n",
       "<table border=\"1\" class=\"dataframe\">\n",
       "  <thead>\n",
       "    <tr style=\"text-align: right;\">\n",
       "      <th></th>\n",
       "      <th>verified</th>\n",
       "      <th>followers_count</th>\n",
       "      <th>following_count</th>\n",
       "      <th>tweet_like_count</th>\n",
       "      <th>tweet_retweet_count</th>\n",
       "      <th>tweet_reply_count</th>\n",
       "    </tr>\n",
       "  </thead>\n",
       "  <tbody>\n",
       "    <tr>\n",
       "      <th>verified</th>\n",
       "      <td>1.000000</td>\n",
       "      <td>0.261768</td>\n",
       "      <td>0.058525</td>\n",
       "      <td>0.065856</td>\n",
       "      <td>0.060312</td>\n",
       "      <td>0.133669</td>\n",
       "    </tr>\n",
       "    <tr>\n",
       "      <th>followers_count</th>\n",
       "      <td>0.261768</td>\n",
       "      <td>1.000000</td>\n",
       "      <td>0.027400</td>\n",
       "      <td>0.020399</td>\n",
       "      <td>0.019235</td>\n",
       "      <td>0.073458</td>\n",
       "    </tr>\n",
       "    <tr>\n",
       "      <th>following_count</th>\n",
       "      <td>0.058525</td>\n",
       "      <td>0.027400</td>\n",
       "      <td>1.000000</td>\n",
       "      <td>0.052773</td>\n",
       "      <td>0.049232</td>\n",
       "      <td>0.042920</td>\n",
       "    </tr>\n",
       "    <tr>\n",
       "      <th>tweet_like_count</th>\n",
       "      <td>0.065856</td>\n",
       "      <td>0.020399</td>\n",
       "      <td>0.052773</td>\n",
       "      <td>1.000000</td>\n",
       "      <td>0.892648</td>\n",
       "      <td>0.671576</td>\n",
       "    </tr>\n",
       "    <tr>\n",
       "      <th>tweet_retweet_count</th>\n",
       "      <td>0.060312</td>\n",
       "      <td>0.019235</td>\n",
       "      <td>0.049232</td>\n",
       "      <td>0.892648</td>\n",
       "      <td>1.000000</td>\n",
       "      <td>0.546457</td>\n",
       "    </tr>\n",
       "    <tr>\n",
       "      <th>tweet_reply_count</th>\n",
       "      <td>0.133669</td>\n",
       "      <td>0.073458</td>\n",
       "      <td>0.042920</td>\n",
       "      <td>0.671576</td>\n",
       "      <td>0.546457</td>\n",
       "      <td>1.000000</td>\n",
       "    </tr>\n",
       "  </tbody>\n",
       "</table>\n",
       "</div>"
      ],
      "text/plain": [
       "                     verified  followers_count  following_count  \\\n",
       "verified             1.000000         0.261768         0.058525   \n",
       "followers_count      0.261768         1.000000         0.027400   \n",
       "following_count      0.058525         0.027400         1.000000   \n",
       "tweet_like_count     0.065856         0.020399         0.052773   \n",
       "tweet_retweet_count  0.060312         0.019235         0.049232   \n",
       "tweet_reply_count    0.133669         0.073458         0.042920   \n",
       "\n",
       "                     tweet_like_count  tweet_retweet_count  tweet_reply_count  \n",
       "verified                     0.065856             0.060312           0.133669  \n",
       "followers_count              0.020399             0.019235           0.073458  \n",
       "following_count              0.052773             0.049232           0.042920  \n",
       "tweet_like_count             1.000000             0.892648           0.671576  \n",
       "tweet_retweet_count          0.892648             1.000000           0.546457  \n",
       "tweet_reply_count            0.671576             0.546457           1.000000  "
      ]
     },
     "execution_count": 39,
     "metadata": {},
     "output_type": "execute_result"
    }
   ],
   "source": [
    "data.corr()\n",
    "#tweet_like_count сильно коррелирует с tweet_retweet_count - 0.892648 и tweet_reply_count - 0.671576\n",
    "#возможно, лайки или ретвиты нужно будет удалить. "
   ]
  },
  {
   "cell_type": "code",
   "execution_count": 40,
   "id": "cc588e28",
   "metadata": {},
   "outputs": [
    {
     "data": {
      "text/plain": [
       "array(['CathFordETS', 'gsvigilant', 'Chris07111522', ...,\n",
       "       'Jonatha67756129', 'MaryTracy', '_Fessial'], dtype=object)"
      ]
     },
     "execution_count": 40,
     "metadata": {},
     "output_type": "execute_result"
    }
   ],
   "source": [
    "data['username'].unique()"
   ]
  },
  {
   "cell_type": "code",
   "execution_count": 41,
   "id": "44d42061",
   "metadata": {},
   "outputs": [
    {
     "data": {
      "text/plain": [
       "37553"
      ]
     },
     "execution_count": 41,
     "metadata": {},
     "output_type": "execute_result"
    }
   ],
   "source": [
    "# 37553 из 50001\n",
    "len(data['username'].unique())"
   ]
  },
  {
   "cell_type": "code",
   "execution_count": 42,
   "id": "9cce67a4",
   "metadata": {},
   "outputs": [
    {
     "data": {
      "text/html": [
       "<div>\n",
       "<style scoped>\n",
       "    .dataframe tbody tr th:only-of-type {\n",
       "        vertical-align: middle;\n",
       "    }\n",
       "\n",
       "    .dataframe tbody tr th {\n",
       "        vertical-align: top;\n",
       "    }\n",
       "\n",
       "    .dataframe thead th {\n",
       "        text-align: right;\n",
       "    }\n",
       "</style>\n",
       "<table border=\"1\" class=\"dataframe\">\n",
       "  <thead>\n",
       "    <tr style=\"text-align: right;\">\n",
       "      <th></th>\n",
       "      <th>date_time</th>\n",
       "      <th>username</th>\n",
       "      <th>user_location</th>\n",
       "      <th>user_description</th>\n",
       "      <th>verified</th>\n",
       "      <th>followers_count</th>\n",
       "      <th>following_count</th>\n",
       "      <th>tweet_like_count</th>\n",
       "      <th>tweet_retweet_count</th>\n",
       "      <th>tweet_reply_count</th>\n",
       "      <th>source</th>\n",
       "      <th>tweet_text</th>\n",
       "    </tr>\n",
       "  </thead>\n",
       "  <tbody>\n",
       "    <tr>\n",
       "      <th>4</th>\n",
       "      <td>2022-08-26 21:09:13+00:00</td>\n",
       "      <td>RepAshleyHinson</td>\n",
       "      <td>Washington, DC</td>\n",
       "      <td>Proud mom and wife. Representing IA-01 in Cong...</td>\n",
       "      <td>True</td>\n",
       "      <td>15667</td>\n",
       "      <td>624</td>\n",
       "      <td>0</td>\n",
       "      <td>1</td>\n",
       "      <td>0</td>\n",
       "      <td>&lt;a href=\"http://twitter.com/download/iphone\" r...</td>\n",
       "      <td>Unleashing American energy independence is one...</td>\n",
       "    </tr>\n",
       "    <tr>\n",
       "      <th>17</th>\n",
       "      <td>2022-08-26 21:07:00+00:00</td>\n",
       "      <td>dailystar</td>\n",
       "      <td>London</td>\n",
       "      <td>Home of Fun Stuff! Follow @StarBreaksNews to b...</td>\n",
       "      <td>True</td>\n",
       "      <td>227708</td>\n",
       "      <td>3547</td>\n",
       "      <td>0</td>\n",
       "      <td>0</td>\n",
       "      <td>1</td>\n",
       "      <td>&lt;a href=\"https://about.twitter.com/products/tw...</td>\n",
       "      <td>She's travelled to Costa Rica, Thailand and mo...</td>\n",
       "    </tr>\n",
       "    <tr>\n",
       "      <th>58</th>\n",
       "      <td>2022-08-26 20:59:49+00:00</td>\n",
       "      <td>BelTel</td>\n",
       "      <td>Belfast, Northern Ireland</td>\n",
       "      <td>Northern Ireland news, sport, features, opinio...</td>\n",
       "      <td>True</td>\n",
       "      <td>219301</td>\n",
       "      <td>14956</td>\n",
       "      <td>4</td>\n",
       "      <td>0</td>\n",
       "      <td>0</td>\n",
       "      <td>&lt;a href=\"https://about.twitter.com/products/tw...</td>\n",
       "      <td>Margaret Canning: We should feel angry the tim...</td>\n",
       "    </tr>\n",
       "    <tr>\n",
       "      <th>67</th>\n",
       "      <td>2022-08-26 20:58:49+00:00</td>\n",
       "      <td>thecyberwire</td>\n",
       "      <td>Fulton, Maryland, USA</td>\n",
       "      <td>Concise cybersecurity news &amp; analysis for the ...</td>\n",
       "      <td>True</td>\n",
       "      <td>39058</td>\n",
       "      <td>884</td>\n",
       "      <td>0</td>\n",
       "      <td>0</td>\n",
       "      <td>0</td>\n",
       "      <td>&lt;a href=\"http://www.hubspot.com/\" rel=\"nofollo...</td>\n",
       "      <td>Black Basta, Okta on Scatter Swine, Nobelium, ...</td>\n",
       "    </tr>\n",
       "    <tr>\n",
       "      <th>70</th>\n",
       "      <td>2022-08-26 20:58:43+00:00</td>\n",
       "      <td>LivEchonews</td>\n",
       "      <td>Liverpool, UK</td>\n",
       "      <td>The latest Liverpool news, sport, weather and ...</td>\n",
       "      <td>True</td>\n",
       "      <td>519641</td>\n",
       "      <td>1392</td>\n",
       "      <td>3</td>\n",
       "      <td>0</td>\n",
       "      <td>1</td>\n",
       "      <td>&lt;a href=\"https://about.twitter.com/products/tw...</td>\n",
       "      <td>A mum-of-12 has given up all hope of ever havi...</td>\n",
       "    </tr>\n",
       "  </tbody>\n",
       "</table>\n",
       "</div>"
      ],
      "text/plain": [
       "                    date_time         username              user_location  \\\n",
       "4   2022-08-26 21:09:13+00:00  RepAshleyHinson             Washington, DC   \n",
       "17  2022-08-26 21:07:00+00:00        dailystar                     London   \n",
       "58  2022-08-26 20:59:49+00:00           BelTel  Belfast, Northern Ireland   \n",
       "67  2022-08-26 20:58:49+00:00     thecyberwire      Fulton, Maryland, USA   \n",
       "70  2022-08-26 20:58:43+00:00      LivEchonews              Liverpool, UK   \n",
       "\n",
       "                                     user_description  verified  \\\n",
       "4   Proud mom and wife. Representing IA-01 in Cong...      True   \n",
       "17  Home of Fun Stuff! Follow @StarBreaksNews to b...      True   \n",
       "58  Northern Ireland news, sport, features, opinio...      True   \n",
       "67  Concise cybersecurity news & analysis for the ...      True   \n",
       "70  The latest Liverpool news, sport, weather and ...      True   \n",
       "\n",
       "    followers_count  following_count  tweet_like_count  tweet_retweet_count  \\\n",
       "4             15667              624                 0                    1   \n",
       "17           227708             3547                 0                    0   \n",
       "58           219301            14956                 4                    0   \n",
       "67            39058              884                 0                    0   \n",
       "70           519641             1392                 3                    0   \n",
       "\n",
       "    tweet_reply_count                                             source  \\\n",
       "4                   0  <a href=\"http://twitter.com/download/iphone\" r...   \n",
       "17                  1  <a href=\"https://about.twitter.com/products/tw...   \n",
       "58                  0  <a href=\"https://about.twitter.com/products/tw...   \n",
       "67                  0  <a href=\"http://www.hubspot.com/\" rel=\"nofollo...   \n",
       "70                  1  <a href=\"https://about.twitter.com/products/tw...   \n",
       "\n",
       "                                           tweet_text  \n",
       "4   Unleashing American energy independence is one...  \n",
       "17  She's travelled to Costa Rica, Thailand and mo...  \n",
       "58  Margaret Canning: We should feel angry the tim...  \n",
       "67  Black Basta, Okta on Scatter Swine, Nobelium, ...  \n",
       "70  A mum-of-12 has given up all hope of ever havi...  "
      ]
     },
     "execution_count": 42,
     "metadata": {},
     "output_type": "execute_result"
    }
   ],
   "source": [
    "data[data['verified'] == True].head()"
   ]
  },
  {
   "cell_type": "code",
   "execution_count": 43,
   "id": "4302df45",
   "metadata": {},
   "outputs": [
    {
     "data": {
      "text/plain": [
       "(3205, 12)"
      ]
     },
     "execution_count": 43,
     "metadata": {},
     "output_type": "execute_result"
    }
   ],
   "source": [
    "# из 50001 3205 - верифицированные\n",
    "data[data['verified'] == True].shape"
   ]
  },
  {
   "cell_type": "code",
   "execution_count": 44,
   "id": "8875d846",
   "metadata": {},
   "outputs": [
    {
     "data": {
      "text/html": [
       "<div>\n",
       "<style scoped>\n",
       "    .dataframe tbody tr th:only-of-type {\n",
       "        vertical-align: middle;\n",
       "    }\n",
       "\n",
       "    .dataframe tbody tr th {\n",
       "        vertical-align: top;\n",
       "    }\n",
       "\n",
       "    .dataframe thead th {\n",
       "        text-align: right;\n",
       "    }\n",
       "</style>\n",
       "<table border=\"1\" class=\"dataframe\">\n",
       "  <thead>\n",
       "    <tr style=\"text-align: right;\">\n",
       "      <th></th>\n",
       "      <th>username</th>\n",
       "      <th>user_description</th>\n",
       "      <th>followers_count</th>\n",
       "      <th>following_count</th>\n",
       "    </tr>\n",
       "  </thead>\n",
       "  <tbody>\n",
       "    <tr>\n",
       "      <th>3</th>\n",
       "      <td>mnguniomhlophe</td>\n",
       "      <td>Traditional Healer and Clairvoyant: Interested...</td>\n",
       "      <td>431</td>\n",
       "      <td>1603</td>\n",
       "    </tr>\n",
       "    <tr>\n",
       "      <th>4</th>\n",
       "      <td>RepAshleyHinson</td>\n",
       "      <td>Proud mom and wife. Representing IA-01 in Cong...</td>\n",
       "      <td>15667</td>\n",
       "      <td>624</td>\n",
       "    </tr>\n",
       "    <tr>\n",
       "      <th>8</th>\n",
       "      <td>IanHobbs11</td>\n",
       "      <td>My interests are music (Guitar piano and singi...</td>\n",
       "      <td>102</td>\n",
       "      <td>350</td>\n",
       "    </tr>\n",
       "    <tr>\n",
       "      <th>10</th>\n",
       "      <td>tasminschofield</td>\n",
       "      <td>NaN</td>\n",
       "      <td>170</td>\n",
       "      <td>438</td>\n",
       "    </tr>\n",
       "    <tr>\n",
       "      <th>11</th>\n",
       "      <td>paul_draper80</td>\n",
       "      <td>#JoinAUnion</td>\n",
       "      <td>1475</td>\n",
       "      <td>2778</td>\n",
       "    </tr>\n",
       "  </tbody>\n",
       "</table>\n",
       "</div>"
      ],
      "text/plain": [
       "           username                                   user_description  \\\n",
       "3    mnguniomhlophe  Traditional Healer and Clairvoyant: Interested...   \n",
       "4   RepAshleyHinson  Proud mom and wife. Representing IA-01 in Cong...   \n",
       "8        IanHobbs11  My interests are music (Guitar piano and singi...   \n",
       "10  tasminschofield                                                NaN   \n",
       "11    paul_draper80                                        #JoinAUnion   \n",
       "\n",
       "    followers_count  following_count  \n",
       "3               431             1603  \n",
       "4             15667              624  \n",
       "8               102              350  \n",
       "10              170              438  \n",
       "11             1475             2778  "
      ]
     },
     "execution_count": 44,
     "metadata": {},
     "output_type": "execute_result"
    }
   ],
   "source": [
    "data[data['followers_count'] > 100][['username', 'user_description', 'followers_count', 'following_count']].head()"
   ]
  },
  {
   "cell_type": "code",
   "execution_count": 45,
   "id": "2a4295d9",
   "metadata": {},
   "outputs": [
    {
     "data": {
      "text/plain": [
       "RangeIndex(start=0, stop=50001, step=1)"
      ]
     },
     "execution_count": 45,
     "metadata": {},
     "output_type": "execute_result"
    }
   ],
   "source": [
    "#создадим столбец id\n",
    "data.index"
   ]
  },
  {
   "cell_type": "code",
   "execution_count": 46,
   "id": "1e11b4c0",
   "metadata": {},
   "outputs": [
    {
     "data": {
      "text/html": [
       "<div>\n",
       "<style scoped>\n",
       "    .dataframe tbody tr th:only-of-type {\n",
       "        vertical-align: middle;\n",
       "    }\n",
       "\n",
       "    .dataframe tbody tr th {\n",
       "        vertical-align: top;\n",
       "    }\n",
       "\n",
       "    .dataframe thead th {\n",
       "        text-align: right;\n",
       "    }\n",
       "</style>\n",
       "<table border=\"1\" class=\"dataframe\">\n",
       "  <thead>\n",
       "    <tr style=\"text-align: right;\">\n",
       "      <th></th>\n",
       "      <th>date_time</th>\n",
       "      <th>username</th>\n",
       "      <th>user_location</th>\n",
       "      <th>user_description</th>\n",
       "      <th>verified</th>\n",
       "      <th>followers_count</th>\n",
       "      <th>following_count</th>\n",
       "      <th>tweet_like_count</th>\n",
       "      <th>tweet_retweet_count</th>\n",
       "      <th>tweet_reply_count</th>\n",
       "      <th>source</th>\n",
       "      <th>tweet_text</th>\n",
       "      <th>id</th>\n",
       "    </tr>\n",
       "  </thead>\n",
       "  <tbody>\n",
       "    <tr>\n",
       "      <th>0</th>\n",
       "      <td>2022-08-26 21:09:51+00:00</td>\n",
       "      <td>CathFordETS</td>\n",
       "      <td>Manchester, England</td>\n",
       "      <td>Chronic illness advocate. Many health conditio...</td>\n",
       "      <td>False</td>\n",
       "      <td>20</td>\n",
       "      <td>106</td>\n",
       "      <td>0</td>\n",
       "      <td>0</td>\n",
       "      <td>0</td>\n",
       "      <td>&lt;a href=\"http://twitter.com/download/android\" ...</td>\n",
       "      <td>@Keir_Starmer Please can you share this petiti...</td>\n",
       "      <td>0</td>\n",
       "    </tr>\n",
       "    <tr>\n",
       "      <th>1</th>\n",
       "      <td>2022-08-26 21:09:25+00:00</td>\n",
       "      <td>gsvigilant</td>\n",
       "      <td>NaN</td>\n",
       "      <td>NaN</td>\n",
       "      <td>False</td>\n",
       "      <td>6</td>\n",
       "      <td>29</td>\n",
       "      <td>0</td>\n",
       "      <td>0</td>\n",
       "      <td>0</td>\n",
       "      <td>&lt;a href=\"http://twitter.com/download/android\" ...</td>\n",
       "      <td>@amyklobuchar So much for focusing your attent...</td>\n",
       "      <td>1</td>\n",
       "    </tr>\n",
       "    <tr>\n",
       "      <th>2</th>\n",
       "      <td>2022-08-26 21:09:19+00:00</td>\n",
       "      <td>Chris07111522</td>\n",
       "      <td>NaN</td>\n",
       "      <td>Professional educator, with a curious mind and...</td>\n",
       "      <td>False</td>\n",
       "      <td>18</td>\n",
       "      <td>39</td>\n",
       "      <td>0</td>\n",
       "      <td>0</td>\n",
       "      <td>0</td>\n",
       "      <td>&lt;a href=\"http://twitter.com/download/android\" ...</td>\n",
       "      <td>@TheLastLeg Kidnap the Tory leadership candida...</td>\n",
       "      <td>2</td>\n",
       "    </tr>\n",
       "    <tr>\n",
       "      <th>3</th>\n",
       "      <td>2022-08-26 21:09:18+00:00</td>\n",
       "      <td>mnguniomhlophe</td>\n",
       "      <td>Savanna City Midvaal</td>\n",
       "      <td>Traditional Healer and Clairvoyant: Interested...</td>\n",
       "      <td>False</td>\n",
       "      <td>431</td>\n",
       "      <td>1603</td>\n",
       "      <td>0</td>\n",
       "      <td>0</td>\n",
       "      <td>0</td>\n",
       "      <td>&lt;a href=\"https://mobile.twitter.com\" rel=\"nofo...</td>\n",
       "      <td>I salute all the courageous men and women from...</td>\n",
       "      <td>3</td>\n",
       "    </tr>\n",
       "    <tr>\n",
       "      <th>4</th>\n",
       "      <td>2022-08-26 21:09:13+00:00</td>\n",
       "      <td>RepAshleyHinson</td>\n",
       "      <td>Washington, DC</td>\n",
       "      <td>Proud mom and wife. Representing IA-01 in Cong...</td>\n",
       "      <td>True</td>\n",
       "      <td>15667</td>\n",
       "      <td>624</td>\n",
       "      <td>0</td>\n",
       "      <td>1</td>\n",
       "      <td>0</td>\n",
       "      <td>&lt;a href=\"http://twitter.com/download/iphone\" r...</td>\n",
       "      <td>Unleashing American energy independence is one...</td>\n",
       "      <td>4</td>\n",
       "    </tr>\n",
       "  </tbody>\n",
       "</table>\n",
       "</div>"
      ],
      "text/plain": [
       "                   date_time         username         user_location  \\\n",
       "0  2022-08-26 21:09:51+00:00      CathFordETS   Manchester, England   \n",
       "1  2022-08-26 21:09:25+00:00       gsvigilant                   NaN   \n",
       "2  2022-08-26 21:09:19+00:00    Chris07111522                   NaN   \n",
       "3  2022-08-26 21:09:18+00:00   mnguniomhlophe  Savanna City Midvaal   \n",
       "4  2022-08-26 21:09:13+00:00  RepAshleyHinson        Washington, DC   \n",
       "\n",
       "                                    user_description  verified  \\\n",
       "0  Chronic illness advocate. Many health conditio...     False   \n",
       "1                                                NaN     False   \n",
       "2  Professional educator, with a curious mind and...     False   \n",
       "3  Traditional Healer and Clairvoyant: Interested...     False   \n",
       "4  Proud mom and wife. Representing IA-01 in Cong...      True   \n",
       "\n",
       "   followers_count  following_count  tweet_like_count  tweet_retweet_count  \\\n",
       "0               20              106                 0                    0   \n",
       "1                6               29                 0                    0   \n",
       "2               18               39                 0                    0   \n",
       "3              431             1603                 0                    0   \n",
       "4            15667              624                 0                    1   \n",
       "\n",
       "   tweet_reply_count                                             source  \\\n",
       "0                  0  <a href=\"http://twitter.com/download/android\" ...   \n",
       "1                  0  <a href=\"http://twitter.com/download/android\" ...   \n",
       "2                  0  <a href=\"http://twitter.com/download/android\" ...   \n",
       "3                  0  <a href=\"https://mobile.twitter.com\" rel=\"nofo...   \n",
       "4                  0  <a href=\"http://twitter.com/download/iphone\" r...   \n",
       "\n",
       "                                          tweet_text  id  \n",
       "0  @Keir_Starmer Please can you share this petiti...   0  \n",
       "1  @amyklobuchar So much for focusing your attent...   1  \n",
       "2  @TheLastLeg Kidnap the Tory leadership candida...   2  \n",
       "3  I salute all the courageous men and women from...   3  \n",
       "4  Unleashing American energy independence is one...   4  "
      ]
     },
     "execution_count": 46,
     "metadata": {},
     "output_type": "execute_result"
    }
   ],
   "source": [
    "data['id'] = data.index\n",
    "data.head()"
   ]
  },
  {
   "cell_type": "code",
   "execution_count": 47,
   "id": "7f2f1058",
   "metadata": {},
   "outputs": [
    {
     "data": {
      "text/plain": [
       "['date_time',\n",
       " 'username',\n",
       " 'user_location',\n",
       " 'user_description',\n",
       " 'verified',\n",
       " 'followers_count',\n",
       " 'following_count',\n",
       " 'tweet_like_count',\n",
       " 'tweet_retweet_count',\n",
       " 'tweet_reply_count',\n",
       " 'source',\n",
       " 'tweet_text',\n",
       " 'id']"
      ]
     },
     "execution_count": 47,
     "metadata": {},
     "output_type": "execute_result"
    }
   ],
   "source": [
    "cols = list(data.columns.values)\n",
    "cols "
   ]
  },
  {
   "cell_type": "code",
   "execution_count": 48,
   "id": "e4807ee4",
   "metadata": {},
   "outputs": [
    {
     "data": {
      "text/html": [
       "<div>\n",
       "<style scoped>\n",
       "    .dataframe tbody tr th:only-of-type {\n",
       "        vertical-align: middle;\n",
       "    }\n",
       "\n",
       "    .dataframe tbody tr th {\n",
       "        vertical-align: top;\n",
       "    }\n",
       "\n",
       "    .dataframe thead th {\n",
       "        text-align: right;\n",
       "    }\n",
       "</style>\n",
       "<table border=\"1\" class=\"dataframe\">\n",
       "  <thead>\n",
       "    <tr style=\"text-align: right;\">\n",
       "      <th></th>\n",
       "      <th>id</th>\n",
       "      <th>date_time</th>\n",
       "      <th>username</th>\n",
       "      <th>user_location</th>\n",
       "      <th>user_description</th>\n",
       "      <th>verified</th>\n",
       "      <th>followers_count</th>\n",
       "      <th>following_count</th>\n",
       "      <th>tweet_like_count</th>\n",
       "      <th>tweet_retweet_count</th>\n",
       "      <th>tweet_reply_count</th>\n",
       "      <th>source</th>\n",
       "      <th>tweet_text</th>\n",
       "    </tr>\n",
       "  </thead>\n",
       "  <tbody>\n",
       "    <tr>\n",
       "      <th>0</th>\n",
       "      <td>0</td>\n",
       "      <td>2022-08-26 21:09:51+00:00</td>\n",
       "      <td>CathFordETS</td>\n",
       "      <td>Manchester, England</td>\n",
       "      <td>Chronic illness advocate. Many health conditio...</td>\n",
       "      <td>False</td>\n",
       "      <td>20</td>\n",
       "      <td>106</td>\n",
       "      <td>0</td>\n",
       "      <td>0</td>\n",
       "      <td>0</td>\n",
       "      <td>&lt;a href=\"http://twitter.com/download/android\" ...</td>\n",
       "      <td>@Keir_Starmer Please can you share this petiti...</td>\n",
       "    </tr>\n",
       "    <tr>\n",
       "      <th>1</th>\n",
       "      <td>1</td>\n",
       "      <td>2022-08-26 21:09:25+00:00</td>\n",
       "      <td>gsvigilant</td>\n",
       "      <td>NaN</td>\n",
       "      <td>NaN</td>\n",
       "      <td>False</td>\n",
       "      <td>6</td>\n",
       "      <td>29</td>\n",
       "      <td>0</td>\n",
       "      <td>0</td>\n",
       "      <td>0</td>\n",
       "      <td>&lt;a href=\"http://twitter.com/download/android\" ...</td>\n",
       "      <td>@amyklobuchar So much for focusing your attent...</td>\n",
       "    </tr>\n",
       "    <tr>\n",
       "      <th>2</th>\n",
       "      <td>2</td>\n",
       "      <td>2022-08-26 21:09:19+00:00</td>\n",
       "      <td>Chris07111522</td>\n",
       "      <td>NaN</td>\n",
       "      <td>Professional educator, with a curious mind and...</td>\n",
       "      <td>False</td>\n",
       "      <td>18</td>\n",
       "      <td>39</td>\n",
       "      <td>0</td>\n",
       "      <td>0</td>\n",
       "      <td>0</td>\n",
       "      <td>&lt;a href=\"http://twitter.com/download/android\" ...</td>\n",
       "      <td>@TheLastLeg Kidnap the Tory leadership candida...</td>\n",
       "    </tr>\n",
       "    <tr>\n",
       "      <th>3</th>\n",
       "      <td>3</td>\n",
       "      <td>2022-08-26 21:09:18+00:00</td>\n",
       "      <td>mnguniomhlophe</td>\n",
       "      <td>Savanna City Midvaal</td>\n",
       "      <td>Traditional Healer and Clairvoyant: Interested...</td>\n",
       "      <td>False</td>\n",
       "      <td>431</td>\n",
       "      <td>1603</td>\n",
       "      <td>0</td>\n",
       "      <td>0</td>\n",
       "      <td>0</td>\n",
       "      <td>&lt;a href=\"https://mobile.twitter.com\" rel=\"nofo...</td>\n",
       "      <td>I salute all the courageous men and women from...</td>\n",
       "    </tr>\n",
       "    <tr>\n",
       "      <th>4</th>\n",
       "      <td>4</td>\n",
       "      <td>2022-08-26 21:09:13+00:00</td>\n",
       "      <td>RepAshleyHinson</td>\n",
       "      <td>Washington, DC</td>\n",
       "      <td>Proud mom and wife. Representing IA-01 in Cong...</td>\n",
       "      <td>True</td>\n",
       "      <td>15667</td>\n",
       "      <td>624</td>\n",
       "      <td>0</td>\n",
       "      <td>1</td>\n",
       "      <td>0</td>\n",
       "      <td>&lt;a href=\"http://twitter.com/download/iphone\" r...</td>\n",
       "      <td>Unleashing American energy independence is one...</td>\n",
       "    </tr>\n",
       "  </tbody>\n",
       "</table>\n",
       "</div>"
      ],
      "text/plain": [
       "   id                  date_time         username         user_location  \\\n",
       "0   0  2022-08-26 21:09:51+00:00      CathFordETS   Manchester, England   \n",
       "1   1  2022-08-26 21:09:25+00:00       gsvigilant                   NaN   \n",
       "2   2  2022-08-26 21:09:19+00:00    Chris07111522                   NaN   \n",
       "3   3  2022-08-26 21:09:18+00:00   mnguniomhlophe  Savanna City Midvaal   \n",
       "4   4  2022-08-26 21:09:13+00:00  RepAshleyHinson        Washington, DC   \n",
       "\n",
       "                                    user_description  verified  \\\n",
       "0  Chronic illness advocate. Many health conditio...     False   \n",
       "1                                                NaN     False   \n",
       "2  Professional educator, with a curious mind and...     False   \n",
       "3  Traditional Healer and Clairvoyant: Interested...     False   \n",
       "4  Proud mom and wife. Representing IA-01 in Cong...      True   \n",
       "\n",
       "   followers_count  following_count  tweet_like_count  tweet_retweet_count  \\\n",
       "0               20              106                 0                    0   \n",
       "1                6               29                 0                    0   \n",
       "2               18               39                 0                    0   \n",
       "3              431             1603                 0                    0   \n",
       "4            15667              624                 0                    1   \n",
       "\n",
       "   tweet_reply_count                                             source  \\\n",
       "0                  0  <a href=\"http://twitter.com/download/android\" ...   \n",
       "1                  0  <a href=\"http://twitter.com/download/android\" ...   \n",
       "2                  0  <a href=\"http://twitter.com/download/android\" ...   \n",
       "3                  0  <a href=\"https://mobile.twitter.com\" rel=\"nofo...   \n",
       "4                  0  <a href=\"http://twitter.com/download/iphone\" r...   \n",
       "\n",
       "                                          tweet_text  \n",
       "0  @Keir_Starmer Please can you share this petiti...  \n",
       "1  @amyklobuchar So much for focusing your attent...  \n",
       "2  @TheLastLeg Kidnap the Tory leadership candida...  \n",
       "3  I salute all the courageous men and women from...  \n",
       "4  Unleashing American energy independence is one...  "
      ]
     },
     "execution_count": 48,
     "metadata": {},
     "output_type": "execute_result"
    }
   ],
   "source": [
    "data = data[['id',\n",
    " 'date_time',\n",
    " 'username',\n",
    " 'user_location',\n",
    " 'user_description',\n",
    " 'verified',\n",
    " 'followers_count',\n",
    " 'following_count',\n",
    " 'tweet_like_count',\n",
    " 'tweet_retweet_count',\n",
    " 'tweet_reply_count',\n",
    " 'source',\n",
    " 'tweet_text']]\n",
    "data.head()"
   ]
  },
  {
   "cell_type": "code",
   "execution_count": 49,
   "id": "db8af0c4",
   "metadata": {},
   "outputs": [
    {
     "data": {
      "text/plain": [
       "verified\n",
       "False    46796\n",
       "True      3205\n",
       "Name: id, dtype: int64"
      ]
     },
     "execution_count": 49,
     "metadata": {},
     "output_type": "execute_result"
    }
   ],
   "source": [
    "data.groupby(['verified'])['id'].count()"
   ]
  },
  {
   "cell_type": "code",
   "execution_count": 50,
   "id": "581124a4",
   "metadata": {},
   "outputs": [
    {
     "data": {
      "text/plain": [
       "id                         0\n",
       "date_time                  0\n",
       "username                   0\n",
       "user_location          15704\n",
       "user_description        7015\n",
       "verified                   0\n",
       "followers_count            0\n",
       "following_count            0\n",
       "tweet_like_count           0\n",
       "tweet_retweet_count        0\n",
       "tweet_reply_count          0\n",
       "source                     0\n",
       "tweet_text                 0\n",
       "dtype: int64"
      ]
     },
     "execution_count": 50,
     "metadata": {},
     "output_type": "execute_result"
    }
   ],
   "source": [
    "#заполним пропуски\n",
    "data.isnull().sum()"
   ]
  },
  {
   "cell_type": "code",
   "execution_count": 51,
   "id": "65bf9c78",
   "metadata": {},
   "outputs": [
    {
     "data": {
      "text/plain": [
       "0    London, England\n",
       "dtype: object"
      ]
     },
     "execution_count": 51,
     "metadata": {},
     "output_type": "execute_result"
    }
   ],
   "source": [
    "#user_location          15704\n",
    "#найдем моду\n",
    "data['user_location'].mode()"
   ]
  },
  {
   "cell_type": "code",
   "execution_count": 52,
   "id": "9603636f",
   "metadata": {},
   "outputs": [
    {
     "data": {
      "text/plain": [
       "1147"
      ]
     },
     "execution_count": 52,
     "metadata": {},
     "output_type": "execute_result"
    }
   ],
   "source": [
    "#посчитаем число входений Лондона\n",
    "data[data['user_location'] == 'London, England']['id'].count()"
   ]
  },
  {
   "cell_type": "code",
   "execution_count": 53,
   "id": "1e816287",
   "metadata": {},
   "outputs": [],
   "source": [
    "#заменим на моду\n",
    "data['user_location'].fillna('London, England', inplace=True)"
   ]
  },
  {
   "cell_type": "code",
   "execution_count": 54,
   "id": "25ee7e26",
   "metadata": {},
   "outputs": [
    {
     "data": {
      "text/plain": [
       "id                        0\n",
       "date_time                 0\n",
       "username                  0\n",
       "user_location             0\n",
       "user_description       7015\n",
       "verified                  0\n",
       "followers_count           0\n",
       "following_count           0\n",
       "tweet_like_count          0\n",
       "tweet_retweet_count       0\n",
       "tweet_reply_count         0\n",
       "source                    0\n",
       "tweet_text                0\n",
       "dtype: int64"
      ]
     },
     "execution_count": 54,
     "metadata": {},
     "output_type": "execute_result"
    }
   ],
   "source": [
    "data.isnull().sum()"
   ]
  },
  {
   "cell_type": "code",
   "execution_count": 55,
   "id": "9af86acb",
   "metadata": {},
   "outputs": [
    {
     "data": {
      "text/plain": [
       "0    Breaking News, Sports, Entertainment\n",
       "dtype: object"
      ]
     },
     "execution_count": 55,
     "metadata": {},
     "output_type": "execute_result"
    }
   ],
   "source": [
    "#user_description       7015\n",
    "#найдем моду\n",
    "data['user_description'].mode()"
   ]
  },
  {
   "cell_type": "code",
   "execution_count": 56,
   "id": "fefda940",
   "metadata": {},
   "outputs": [
    {
     "data": {
      "text/plain": [
       "101"
      ]
     },
     "execution_count": 56,
     "metadata": {},
     "output_type": "execute_result"
    }
   ],
   "source": [
    "#посчитаем число входений Breaking News, Sports, Entertainment\n",
    "data[data['user_description'] == 'Breaking News, Sports, Entertainment']['id'].count()\n",
    "#мода получается несущественной, так как всего только 101 вхождение. Все же заменим на нее."
   ]
  },
  {
   "cell_type": "code",
   "execution_count": 57,
   "id": "786479f5",
   "metadata": {},
   "outputs": [],
   "source": [
    "#заменим на моду\n",
    "data['user_description'].fillna('Breaking News, Sports, Entertainment', inplace=True)"
   ]
  },
  {
   "cell_type": "code",
   "execution_count": 58,
   "id": "b79771b3",
   "metadata": {},
   "outputs": [
    {
     "data": {
      "text/plain": [
       "id                     0\n",
       "date_time              0\n",
       "username               0\n",
       "user_location          0\n",
       "user_description       0\n",
       "verified               0\n",
       "followers_count        0\n",
       "following_count        0\n",
       "tweet_like_count       0\n",
       "tweet_retweet_count    0\n",
       "tweet_reply_count      0\n",
       "source                 0\n",
       "tweet_text             0\n",
       "dtype: int64"
      ]
     },
     "execution_count": 58,
     "metadata": {},
     "output_type": "execute_result"
    }
   ],
   "source": [
    "#пропусков нет\n",
    "data.isnull().sum()"
   ]
  },
  {
   "cell_type": "code",
   "execution_count": 59,
   "id": "210d4582",
   "metadata": {},
   "outputs": [
    {
     "data": {
      "text/html": [
       "<div>\n",
       "<style scoped>\n",
       "    .dataframe tbody tr th:only-of-type {\n",
       "        vertical-align: middle;\n",
       "    }\n",
       "\n",
       "    .dataframe tbody tr th {\n",
       "        vertical-align: top;\n",
       "    }\n",
       "\n",
       "    .dataframe thead th {\n",
       "        text-align: right;\n",
       "    }\n",
       "</style>\n",
       "<table border=\"1\" class=\"dataframe\">\n",
       "  <thead>\n",
       "    <tr style=\"text-align: right;\">\n",
       "      <th></th>\n",
       "      <th>id</th>\n",
       "      <th>date_time</th>\n",
       "      <th>username</th>\n",
       "      <th>user_location</th>\n",
       "      <th>user_description</th>\n",
       "      <th>verified</th>\n",
       "      <th>followers_count</th>\n",
       "      <th>following_count</th>\n",
       "      <th>tweet_like_count</th>\n",
       "      <th>tweet_retweet_count</th>\n",
       "      <th>tweet_reply_count</th>\n",
       "      <th>source</th>\n",
       "      <th>tweet_text</th>\n",
       "      <th>user_popularity</th>\n",
       "    </tr>\n",
       "  </thead>\n",
       "  <tbody>\n",
       "    <tr>\n",
       "      <th>0</th>\n",
       "      <td>0</td>\n",
       "      <td>2022-08-26 21:09:51+00:00</td>\n",
       "      <td>CathFordETS</td>\n",
       "      <td>Manchester, England</td>\n",
       "      <td>Chronic illness advocate. Many health conditio...</td>\n",
       "      <td>False</td>\n",
       "      <td>20</td>\n",
       "      <td>106</td>\n",
       "      <td>0</td>\n",
       "      <td>0</td>\n",
       "      <td>0</td>\n",
       "      <td>&lt;a href=\"http://twitter.com/download/android\" ...</td>\n",
       "      <td>@Keir_Starmer Please can you share this petiti...</td>\n",
       "      <td>0.188679</td>\n",
       "    </tr>\n",
       "    <tr>\n",
       "      <th>1</th>\n",
       "      <td>1</td>\n",
       "      <td>2022-08-26 21:09:25+00:00</td>\n",
       "      <td>gsvigilant</td>\n",
       "      <td>London, England</td>\n",
       "      <td>Breaking News, Sports, Entertainment</td>\n",
       "      <td>False</td>\n",
       "      <td>6</td>\n",
       "      <td>29</td>\n",
       "      <td>0</td>\n",
       "      <td>0</td>\n",
       "      <td>0</td>\n",
       "      <td>&lt;a href=\"http://twitter.com/download/android\" ...</td>\n",
       "      <td>@amyklobuchar So much for focusing your attent...</td>\n",
       "      <td>0.206897</td>\n",
       "    </tr>\n",
       "    <tr>\n",
       "      <th>2</th>\n",
       "      <td>2</td>\n",
       "      <td>2022-08-26 21:09:19+00:00</td>\n",
       "      <td>Chris07111522</td>\n",
       "      <td>London, England</td>\n",
       "      <td>Professional educator, with a curious mind and...</td>\n",
       "      <td>False</td>\n",
       "      <td>18</td>\n",
       "      <td>39</td>\n",
       "      <td>0</td>\n",
       "      <td>0</td>\n",
       "      <td>0</td>\n",
       "      <td>&lt;a href=\"http://twitter.com/download/android\" ...</td>\n",
       "      <td>@TheLastLeg Kidnap the Tory leadership candida...</td>\n",
       "      <td>0.461538</td>\n",
       "    </tr>\n",
       "    <tr>\n",
       "      <th>3</th>\n",
       "      <td>3</td>\n",
       "      <td>2022-08-26 21:09:18+00:00</td>\n",
       "      <td>mnguniomhlophe</td>\n",
       "      <td>Savanna City Midvaal</td>\n",
       "      <td>Traditional Healer and Clairvoyant: Interested...</td>\n",
       "      <td>False</td>\n",
       "      <td>431</td>\n",
       "      <td>1603</td>\n",
       "      <td>0</td>\n",
       "      <td>0</td>\n",
       "      <td>0</td>\n",
       "      <td>&lt;a href=\"https://mobile.twitter.com\" rel=\"nofo...</td>\n",
       "      <td>I salute all the courageous men and women from...</td>\n",
       "      <td>0.268871</td>\n",
       "    </tr>\n",
       "    <tr>\n",
       "      <th>4</th>\n",
       "      <td>4</td>\n",
       "      <td>2022-08-26 21:09:13+00:00</td>\n",
       "      <td>RepAshleyHinson</td>\n",
       "      <td>Washington, DC</td>\n",
       "      <td>Proud mom and wife. Representing IA-01 in Cong...</td>\n",
       "      <td>True</td>\n",
       "      <td>15667</td>\n",
       "      <td>624</td>\n",
       "      <td>0</td>\n",
       "      <td>1</td>\n",
       "      <td>0</td>\n",
       "      <td>&lt;a href=\"http://twitter.com/download/iphone\" r...</td>\n",
       "      <td>Unleashing American energy independence is one...</td>\n",
       "      <td>25.107372</td>\n",
       "    </tr>\n",
       "  </tbody>\n",
       "</table>\n",
       "</div>"
      ],
      "text/plain": [
       "   id                  date_time         username         user_location  \\\n",
       "0   0  2022-08-26 21:09:51+00:00      CathFordETS   Manchester, England   \n",
       "1   1  2022-08-26 21:09:25+00:00       gsvigilant       London, England   \n",
       "2   2  2022-08-26 21:09:19+00:00    Chris07111522       London, England   \n",
       "3   3  2022-08-26 21:09:18+00:00   mnguniomhlophe  Savanna City Midvaal   \n",
       "4   4  2022-08-26 21:09:13+00:00  RepAshleyHinson        Washington, DC   \n",
       "\n",
       "                                    user_description  verified  \\\n",
       "0  Chronic illness advocate. Many health conditio...     False   \n",
       "1               Breaking News, Sports, Entertainment     False   \n",
       "2  Professional educator, with a curious mind and...     False   \n",
       "3  Traditional Healer and Clairvoyant: Interested...     False   \n",
       "4  Proud mom and wife. Representing IA-01 in Cong...      True   \n",
       "\n",
       "   followers_count  following_count  tweet_like_count  tweet_retweet_count  \\\n",
       "0               20              106                 0                    0   \n",
       "1                6               29                 0                    0   \n",
       "2               18               39                 0                    0   \n",
       "3              431             1603                 0                    0   \n",
       "4            15667              624                 0                    1   \n",
       "\n",
       "   tweet_reply_count                                             source  \\\n",
       "0                  0  <a href=\"http://twitter.com/download/android\" ...   \n",
       "1                  0  <a href=\"http://twitter.com/download/android\" ...   \n",
       "2                  0  <a href=\"http://twitter.com/download/android\" ...   \n",
       "3                  0  <a href=\"https://mobile.twitter.com\" rel=\"nofo...   \n",
       "4                  0  <a href=\"http://twitter.com/download/iphone\" r...   \n",
       "\n",
       "                                          tweet_text  user_popularity  \n",
       "0  @Keir_Starmer Please can you share this petiti...         0.188679  \n",
       "1  @amyklobuchar So much for focusing your attent...         0.206897  \n",
       "2  @TheLastLeg Kidnap the Tory leadership candida...         0.461538  \n",
       "3  I salute all the courageous men and women from...         0.268871  \n",
       "4  Unleashing American energy independence is one...        25.107372  "
      ]
     },
     "execution_count": 59,
     "metadata": {},
     "output_type": "execute_result"
    }
   ],
   "source": [
    "#cгенерируем новый признак  - популярность пользователя. Он будет находиться, как количество подписчиков / количество подписок\n",
    "data['user_popularity'] = data['followers_count'] / data['following_count']\n",
    "data.head()"
   ]
  },
  {
   "cell_type": "markdown",
   "id": "48177b52",
   "metadata": {},
   "source": [
    "### Numpy"
   ]
  },
  {
   "cell_type": "markdown",
   "id": "292e5029",
   "metadata": {},
   "source": [
    "1. Вычислите A + B, A - B\n",
    " \n",
    " $\\\\\n",
    "A = \\left(\n",
    "\\begin{array}{cccc}\n",
    "1 & -2 & 4\\\\\n",
    "2 & 0 & -1\\\\\n",
    "\\end{array}\n",
    "\\right), B = \\left(\n",
    "\\begin{array}{cccc}\n",
    "5 & 2 & 3\\\\\n",
    "4 & 6 & 2\\\\\n",
    "\\end{array}\n",
    "\\right)$"
   ]
  },
  {
   "cell_type": "code",
   "execution_count": 62,
   "id": "c6dcf57f",
   "metadata": {},
   "outputs": [
    {
     "data": {
      "text/plain": [
       "(array([[ 1, -2,  4],\n",
       "        [ 2,  0, -1]]),\n",
       " array([[5, 2, 3],\n",
       "        [4, 6, 2]]))"
      ]
     },
     "execution_count": 62,
     "metadata": {},
     "output_type": "execute_result"
    }
   ],
   "source": [
    "A = np.array([[1, -2, 4], [2, 0, -1]])\n",
    "B = np.array([[5, 2, 3], [4, 6, 2]])\n",
    "A, B"
   ]
  },
  {
   "cell_type": "code",
   "execution_count": 63,
   "id": "d077af6f",
   "metadata": {},
   "outputs": [
    {
     "data": {
      "text/plain": [
       "array([[6, 0, 7],\n",
       "       [6, 6, 1]])"
      ]
     },
     "execution_count": 63,
     "metadata": {},
     "output_type": "execute_result"
    }
   ],
   "source": [
    "A + B"
   ]
  },
  {
   "cell_type": "code",
   "execution_count": 64,
   "id": "06bc0192",
   "metadata": {},
   "outputs": [
    {
     "data": {
      "text/plain": [
       "array([[-4, -4,  1],\n",
       "       [-2, -6, -3]])"
      ]
     },
     "execution_count": 64,
     "metadata": {},
     "output_type": "execute_result"
    }
   ],
   "source": [
    "A - B"
   ]
  },
  {
   "cell_type": "markdown",
   "id": "791b2173",
   "metadata": {},
   "source": [
    "2. Найдите матрицу С = A - 3B\n",
    " \n",
    " $\\\\\n",
    "A = \\left(\n",
    "\\begin{array}{cccc}\n",
    "1 & 2 \\\\\n",
    "2 & -1\\\\\n",
    "3 & 0\\\\\n",
    "\\end{array}\n",
    "\\right), B = \\left(\n",
    "\\begin{array}{cccc}\n",
    "-1 & 1 \\\\\n",
    "1 & 2\\\\\n",
    "0 & 0\\\\\n",
    "\\end{array}\n",
    "\\right)$"
   ]
  },
  {
   "cell_type": "code",
   "execution_count": 65,
   "id": "36937ea1",
   "metadata": {},
   "outputs": [
    {
     "data": {
      "text/plain": [
       "(array([[ 1,  2],\n",
       "        [ 2, -1],\n",
       "        [ 3,  0]]),\n",
       " array([[-1,  1],\n",
       "        [ 1,  2],\n",
       "        [ 0,  0]]))"
      ]
     },
     "execution_count": 65,
     "metadata": {},
     "output_type": "execute_result"
    }
   ],
   "source": [
    "A = np.array([[1, 2], [2, -1], [3, 0]])\n",
    "B = np.array([[-1, 1], [1, 2], [0, 0]])\n",
    "A, B"
   ]
  },
  {
   "cell_type": "code",
   "execution_count": 66,
   "id": "046dc6cf",
   "metadata": {},
   "outputs": [
    {
     "data": {
      "text/plain": [
       "array([[ 4, -1],\n",
       "       [-1, -7],\n",
       "       [ 3,  0]])"
      ]
     },
     "execution_count": 66,
     "metadata": {},
     "output_type": "execute_result"
    }
   ],
   "source": [
    "C = A - 3 * B\n",
    "C"
   ]
  },
  {
   "cell_type": "markdown",
   "id": "ccfb9c10",
   "metadata": {},
   "source": [
    "4. Вычислите определитель матрицы А\n",
    " \n",
    " $\\\\\n",
    "A = \\left(\n",
    "\\begin{array}{cccc}\n",
    "6 & -1 & 4\\\\\n",
    "2 & 1 & 10\\\\\n",
    "8 & 0 & 2\\\\\n",
    "\\end{array}\n",
    "\\right)$"
   ]
  },
  {
   "cell_type": "code",
   "execution_count": 67,
   "id": "8a674f2b",
   "metadata": {},
   "outputs": [
    {
     "data": {
      "text/plain": [
       "array([[ 6, -1,  4],\n",
       "       [ 2,  1, 10],\n",
       "       [ 8,  0,  2]])"
      ]
     },
     "execution_count": 67,
     "metadata": {},
     "output_type": "execute_result"
    }
   ],
   "source": [
    "A = np.array([[6, -1, 4], [2, 1, 10], [8, 0, 2]])\n",
    "A"
   ]
  },
  {
   "cell_type": "code",
   "execution_count": 69,
   "id": "c0ade578",
   "metadata": {},
   "outputs": [
    {
     "data": {
      "text/plain": [
       "-95.99999999999999"
      ]
     },
     "execution_count": 69,
     "metadata": {},
     "output_type": "execute_result"
    }
   ],
   "source": [
    "np.linalg.det(A)"
   ]
  },
  {
   "cell_type": "markdown",
   "id": "a6c77964",
   "metadata": {},
   "source": [
    "5. Вычислите матрицу, обратную матрице А. И покажите, что она действительно является обратной\n",
    " \n",
    " $\\\\\n",
    "A = \\left(\n",
    "\\begin{array}{cccc}\n",
    "3 & 3 & -1\\\\\n",
    "4 & 1 & 3\\\\\n",
    "1 & -2 & -2\\\\\n",
    "\\end{array}\n",
    "\\right)$"
   ]
  },
  {
   "cell_type": "code",
   "execution_count": 70,
   "id": "c8ceb75c",
   "metadata": {},
   "outputs": [
    {
     "data": {
      "text/plain": [
       "array([[ 3,  3, -1],\n",
       "       [ 4,  1,  3],\n",
       "       [ 1, -2, -2]])"
      ]
     },
     "execution_count": 70,
     "metadata": {},
     "output_type": "execute_result"
    }
   ],
   "source": [
    "A = np.array([[3, 3, -1], [4, 1, 3], [1, -2, -2]])\n",
    "A"
   ]
  },
  {
   "cell_type": "code",
   "execution_count": 71,
   "id": "4b4da732",
   "metadata": {},
   "outputs": [
    {
     "data": {
      "text/plain": [
       "array([[ 0.07407407,  0.14814815,  0.18518519],\n",
       "       [ 0.2037037 , -0.09259259, -0.24074074],\n",
       "       [-0.16666667,  0.16666667, -0.16666667]])"
      ]
     },
     "execution_count": 71,
     "metadata": {},
     "output_type": "execute_result"
    }
   ],
   "source": [
    "B = np.linalg.inv(A)\n",
    "B"
   ]
  },
  {
   "cell_type": "code",
   "execution_count": 72,
   "id": "a02dc7b0",
   "metadata": {},
   "outputs": [
    {
     "data": {
      "text/plain": [
       "array([[ 1.00000000e+00, -8.32667268e-17,  2.77555756e-17],\n",
       "       [ 0.00000000e+00,  1.00000000e+00,  0.00000000e+00],\n",
       "       [-5.55111512e-17,  5.55111512e-17,  1.00000000e+00]])"
      ]
     },
     "execution_count": 72,
     "metadata": {},
     "output_type": "execute_result"
    }
   ],
   "source": [
    "# при умножении матриц получается единичная матрица\n",
    "A @ B"
   ]
  },
  {
   "cell_type": "code",
   "execution_count": 73,
   "id": "f782dd89",
   "metadata": {},
   "outputs": [
    {
     "data": {
      "text/plain": [
       "array([[ 1.00000000e+00,  0.00000000e+00,  0.00000000e+00],\n",
       "       [-2.77555756e-17,  1.00000000e+00, -1.11022302e-16],\n",
       "       [-2.77555756e-17, -5.55111512e-17,  1.00000000e+00]])"
      ]
     },
     "execution_count": 73,
     "metadata": {},
     "output_type": "execute_result"
    }
   ],
   "source": [
    "B @ A"
   ]
  }
 ],
 "metadata": {
  "kernelspec": {
   "display_name": "Python 3 (ipykernel)",
   "language": "python",
   "name": "python3"
  },
  "language_info": {
   "codemirror_mode": {
    "name": "ipython",
    "version": 3
   },
   "file_extension": ".py",
   "mimetype": "text/x-python",
   "name": "python",
   "nbconvert_exporter": "python",
   "pygments_lexer": "ipython3",
   "version": "3.9.7"
  }
 },
 "nbformat": 4,
 "nbformat_minor": 5
}
