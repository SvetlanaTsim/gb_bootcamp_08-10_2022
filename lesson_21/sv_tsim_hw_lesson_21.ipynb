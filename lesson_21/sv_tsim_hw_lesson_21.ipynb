{
 "cells": [
  {
   "cell_type": "markdown",
   "id": "eea40539",
   "metadata": {},
   "source": [
    "### Урок 21. Модуль 3. Математический анализ"
   ]
  },
  {
   "cell_type": "markdown",
   "id": "5befe89f",
   "metadata": {},
   "source": [
    "#### 1. Вынесите пределы:"
   ]
  },
  {
   "cell_type": "markdown",
   "id": "3762abea",
   "metadata": {},
   "source": [
    "$\\lim_{x \\to \\infty} \\frac{3 + x + x^2}{2x + 4x^2} = lim_{x \\to \\infty} \\frac{3/x^2 + x/x^2 + x^2/x^2}{2x/x^2 + 4x^2/x^2} = \\frac{1}{4}$"
   ]
  },
  {
   "cell_type": "markdown",
   "id": "d8c0259c",
   "metadata": {},
   "source": [
    "$\\lim_{x \\to 0} \\frac{3x - 6)}{x^2 + 4} = \\lim_{x \\to 0} \\frac{0 * x - 6}{0^2 + 4} = -\\frac{3}{2}$"
   ]
  },
  {
   "cell_type": "markdown",
   "id": "15d382f3",
   "metadata": {},
   "source": [
    "#### 2. Вычислите производные:\n"
   ]
  },
  {
   "cell_type": "markdown",
   "id": "b4cf40b3",
   "metadata": {},
   "source": [
    "$y = sinx$\n",
    "\n",
    "$f(x)' = (sinx)' = cosx$"
   ]
  },
  {
   "cell_type": "markdown",
   "id": "93b22d44",
   "metadata": {},
   "source": [
    "$y = 10x + 3x^2$\n",
    "\n",
    "$y' = (10x + 3x^2)' = 10 + 6x$"
   ]
  },
  {
   "cell_type": "markdown",
   "id": "52e3b64a",
   "metadata": {},
   "source": [
    "#### 3. Найдите интеграл:"
   ]
  },
  {
   "cell_type": "markdown",
   "id": "58dcae99",
   "metadata": {},
   "source": [
    "$y = cosxdx$\n",
    "\n",
    "$\\int_{}^{}(cosx)dx = sinx + C$"
   ]
  },
  {
   "cell_type": "markdown",
   "id": "6c4a17c4",
   "metadata": {},
   "source": [
    "$y = 10^xdx$\n",
    "\n",
    "$\\int_{}^{}(10^x)dx = \\frac{10^x}{ln10} + C = \\frac{10^x}{2.30} + C$"
   ]
  }
 ],
 "metadata": {
  "kernelspec": {
   "display_name": "Python 3 (ipykernel)",
   "language": "python",
   "name": "python3"
  },
  "language_info": {
   "codemirror_mode": {
    "name": "ipython",
    "version": 3
   },
   "file_extension": ".py",
   "mimetype": "text/x-python",
   "name": "python",
   "nbconvert_exporter": "python",
   "pygments_lexer": "ipython3",
   "version": "3.9.7"
  }
 },
 "nbformat": 4,
 "nbformat_minor": 5
}
