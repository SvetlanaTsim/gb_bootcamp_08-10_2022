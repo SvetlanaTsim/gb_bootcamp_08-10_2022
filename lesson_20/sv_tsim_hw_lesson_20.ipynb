{
 "cells": [
  {
   "cell_type": "markdown",
   "id": "d42cb0f6",
   "metadata": {},
   "source": [
    "### Урок 20. Модуль 3. Линейная алгебра"
   ]
  },
  {
   "cell_type": "code",
   "execution_count": 1,
   "id": "b127e4b8",
   "metadata": {},
   "outputs": [],
   "source": [
    "import numpy as np"
   ]
  },
  {
   "cell_type": "markdown",
   "id": "d9269fa8",
   "metadata": {},
   "source": [
    "1. Найти A + B:\n",
    "\n",
    " $A=\\begin{pmatrix}\n",
    "1 & 3 & 0\\\\ \n",
    "2 & -4 & 3\\\\\n",
    "5 & 6 & 9\n",
    "\\end{pmatrix}$ и $B=\\begin{pmatrix}\n",
    "10 & 6 & -2\\\\ \n",
    "0 & 7 & 4\\\\\n",
    "-1 & 2 & 0\n",
    "\\end{pmatrix}$"
   ]
  },
  {
   "cell_type": "markdown",
   "id": "a94fb0ad",
   "metadata": {},
   "source": [
    " $A + B =\\begin{pmatrix}\n",
    "1 & 3 & 0\\\\ \n",
    "2 & -4 & 3\\\\\n",
    "5 & 6 & 9\n",
    "\\end{pmatrix}$ +  $\\begin{pmatrix}\n",
    "10 & 6 & -2\\\\ \n",
    "0 & 7 & 4\\\\\n",
    "-1 & 2 & 0\n",
    "\\end{pmatrix} = \\begin{pmatrix}\n",
    "11 & 9 & -2\\\\ \n",
    "2 & 3 & 7\\\\\n",
    "4 & 8 & 9\n",
    "\\end{pmatrix}$"
   ]
  },
  {
   "cell_type": "code",
   "execution_count": 4,
   "id": "65c816a0",
   "metadata": {},
   "outputs": [
    {
     "data": {
      "text/plain": [
       "array([[10,  6, -2],\n",
       "       [ 0,  7,  4],\n",
       "       [-1,  2,  0]])"
      ]
     },
     "execution_count": 4,
     "metadata": {},
     "output_type": "execute_result"
    }
   ],
   "source": [
    "#проверка\n",
    "B = np.array([[10, 6, -2], [0, 7, 4], [-1, 2, 0]])\n",
    "B"
   ]
  },
  {
   "cell_type": "code",
   "execution_count": 5,
   "id": "bc3ed345",
   "metadata": {},
   "outputs": [
    {
     "data": {
      "text/plain": [
       "array([[ 1,  3,  0],\n",
       "       [ 2, -4,  3],\n",
       "       [ 5,  6,  9]])"
      ]
     },
     "execution_count": 5,
     "metadata": {},
     "output_type": "execute_result"
    }
   ],
   "source": [
    "A = np.array([[1, 3, 0], [2, -4, 3], [5, 6, 9]])\n",
    "A"
   ]
  },
  {
   "cell_type": "code",
   "execution_count": 6,
   "id": "5e9120b7",
   "metadata": {},
   "outputs": [
    {
     "data": {
      "text/plain": [
       "array([[11,  9, -2],\n",
       "       [ 2,  3,  7],\n",
       "       [ 4,  8,  9]])"
      ]
     },
     "execution_count": 6,
     "metadata": {},
     "output_type": "execute_result"
    }
   ],
   "source": [
    "A + B"
   ]
  },
  {
   "cell_type": "markdown",
   "id": "aa8c4ea5",
   "metadata": {},
   "source": [
    "Найти A * B:\n",
    "\n",
    " $A=\\begin{pmatrix}\n",
    "2 & 8 \\\\ \n",
    "3 & 4\n",
    "\\end{pmatrix}$ и  $B=\\begin{pmatrix}\n",
    "1 & 0 \\\\ \n",
    "4 & 9\n",
    "\\end{pmatrix}$\n"
   ]
  },
  {
   "cell_type": "markdown",
   "id": "be3c15f9",
   "metadata": {},
   "source": [
    "\n",
    " $A * B =\\begin{pmatrix}\n",
    "2 & 8 \\\\ \n",
    "3 & 4\n",
    "\\end{pmatrix}$ *  $\\begin{pmatrix}\n",
    "1 & 0 \\\\ \n",
    "4 & 9\n",
    "\\end{pmatrix}$ = $\\begin{pmatrix}\n",
    "2 + 32 & 0 + 72 \\\\ \n",
    "3 + 16 & 0 + 36\n",
    "\\end{pmatrix}$ = $\\begin{pmatrix}\n",
    "34 & 72 \\\\ \n",
    "19 & 36\n",
    "\\end{pmatrix}$"
   ]
  },
  {
   "cell_type": "code",
   "execution_count": 8,
   "id": "d6e8ebd6",
   "metadata": {},
   "outputs": [
    {
     "data": {
      "text/plain": [
       "array([[2, 8],\n",
       "       [3, 4]])"
      ]
     },
     "execution_count": 8,
     "metadata": {},
     "output_type": "execute_result"
    }
   ],
   "source": [
    "#проверка\n",
    "A = np.array([[2, 8], [3, 4]])\n",
    "A"
   ]
  },
  {
   "cell_type": "code",
   "execution_count": 9,
   "id": "363014c3",
   "metadata": {},
   "outputs": [
    {
     "data": {
      "text/plain": [
       "array([[1, 0],\n",
       "       [4, 9]])"
      ]
     },
     "execution_count": 9,
     "metadata": {},
     "output_type": "execute_result"
    }
   ],
   "source": [
    "B = np.array([[1, 0], [4, 9]])\n",
    "B"
   ]
  },
  {
   "cell_type": "code",
   "execution_count": 10,
   "id": "b6ca9c6d",
   "metadata": {},
   "outputs": [
    {
     "data": {
      "text/plain": [
       "array([[34, 72],\n",
       "       [19, 36]])"
      ]
     },
     "execution_count": 10,
     "metadata": {},
     "output_type": "execute_result"
    }
   ],
   "source": [
    "A @ B"
   ]
  },
  {
   "cell_type": "markdown",
   "id": "6e8e8b61",
   "metadata": {},
   "source": [
    "3. Вычислить определители:\n",
    "\n",
    "$\\begin{vmatrix}\n",
    "3 & 7\\\\ \n",
    "6 & 9\n",
    "\\end{vmatrix}$\n",
    "\n",
    "$\\begin{vmatrix}\n",
    "4 & 1 & 9\\\\ \n",
    "3 & 2 & 0\\\\\n",
    "8 & 7 & 5\\\\\n",
    "\\end{vmatrix}$"
   ]
  },
  {
   "cell_type": "markdown",
   "id": "d79d5fe4",
   "metadata": {},
   "source": [
    "$\\begin{vmatrix}\n",
    "3 & 7\\\\ \n",
    "6 & 9\n",
    "\\end{vmatrix} = 3 * 9 - 7 * 6 = 27 - 42 = - 15$  "
   ]
  },
  {
   "cell_type": "code",
   "execution_count": 14,
   "id": "d5329c27",
   "metadata": {},
   "outputs": [
    {
     "data": {
      "text/plain": [
       "-15.0"
      ]
     },
     "execution_count": 14,
     "metadata": {},
     "output_type": "execute_result"
    }
   ],
   "source": [
    "#проверка\n",
    "A = np.array([[3, 7], [6, 9]])\n",
    "np.linalg.det(A)"
   ]
  },
  {
   "cell_type": "markdown",
   "id": "37fd5ac9",
   "metadata": {},
   "source": [
    "$\\begin{vmatrix}\n",
    "4 & 1 & 9\\\\ \n",
    "3 & 2 & 0\\\\\n",
    "8 & 7 & 5\\\\\n",
    "\\end{vmatrix} = 4(2*5 - 0*7) - 1(3*5 - 8*0) + 9(3*7 - 2*8) = 40 - 15 + 45 = 70$"
   ]
  },
  {
   "cell_type": "code",
   "execution_count": 13,
   "id": "931470a7",
   "metadata": {},
   "outputs": [
    {
     "data": {
      "text/plain": [
       "70"
      ]
     },
     "execution_count": 13,
     "metadata": {},
     "output_type": "execute_result"
    }
   ],
   "source": [
    "#проверка\n",
    "A = np.array([[4, 1, 9], [3, 2, 0], [8, 7, 5]])\n",
    "round(np.linalg.det(A))"
   ]
  }
 ],
 "metadata": {
  "kernelspec": {
   "display_name": "Python 3 (ipykernel)",
   "language": "python",
   "name": "python3"
  },
  "language_info": {
   "codemirror_mode": {
    "name": "ipython",
    "version": 3
   },
   "file_extension": ".py",
   "mimetype": "text/x-python",
   "name": "python",
   "nbconvert_exporter": "python",
   "pygments_lexer": "ipython3",
   "version": "3.9.7"
  }
 },
 "nbformat": 4,
 "nbformat_minor": 5
}
